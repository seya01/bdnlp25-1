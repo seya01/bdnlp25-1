{
  "nbformat": 4,
  "nbformat_minor": 0,
  "metadata": {
    "colab": {
      "provenance": [],
      "authorship_tag": "ABX9TyMFZPGX5n9GRuMtvBXUB3O8"
    },
    "kernelspec": {
      "name": "python3",
      "display_name": "Python 3"
    },
    "language_info": {
      "name": "python"
    }
  },
  "cells": [
    {
      "cell_type": "code",
      "execution_count": 10,
      "metadata": {
        "id": "zkuqQr7qfAvb"
      },
      "outputs": [],
      "source": [
        "import requests\n",
        "from urllib.parse import quote\n",
        "\n",
        "client_id = \"SWe77FM8c_EjAm5Y93h5\"\n",
        "client_secret = \"mAz_OvLf7T\"\n",
        "\n",
        "def naver_shop_search(query, display=10):\n",
        "    encoded_query = quote(query)\n",
        "    url = f\"https://openapi.naver.com/v1/search/shop.json?query={encoded_query}&display={display}&start=1&sort=sim&exclude=used:cbshop:rental\"\n",
        "\n",
        "    headers = {\n",
        "        \"X-Naver-Client-Id\": client_id,\n",
        "        \"X-Naver-Client-Secret\": client_secret\n",
        "    }\n",
        "\n",
        "    response = requests.get(url, headers=headers)\n",
        "\n",
        "    if response.status_code == 200:\n",
        "        return response.json()\n",
        "    else:\n",
        "        return {\"error\": response.status_code}\n",
        "\n",
        "result = naver_shop_search(\"영양제\", 100)\n",
        "\n",
        "# if 'items' in result:\n",
        "#   for item in result['items']:\n",
        "#     if item['brand'] != '':\n",
        "#       print(f\"브랜드: {item['brand']}\")\n",
        "#       print(f\"이름: {item['title']}\")\n",
        "#       print(f\"상품ID: {item['productId']}\")\n",
        "#       print(f\"링크: {item['link']}\")\n",
        "#       print(\"-\" * 50)\n",
        "# else:\n",
        "#   print(\"Error:\", result.get('error', 'Unknown error'))\n"
      ]
    },
    {
      "cell_type": "code",
      "source": [
        "!pip install -q chromadb sentence-transformers\n",
        "import chromadb\n",
        "from chromadb.utils import embedding_functions\n",
        "from sentence_transformers import SentenceTransformer"
      ],
      "metadata": {
        "id": "o7R5mDSCgVX-"
      },
      "execution_count": null,
      "outputs": []
    },
    {
      "cell_type": "code",
      "source": [
        "# 1. 데이터 전처리 함수\n",
        "def preprocess_items(items):\n",
        "    processed = []\n",
        "    for item in items:\n",
        "        data = {\n",
        "            \"id\": item['productId'],\n",
        "            \"text\": f\"{item['title']} {item['brand']} {item['maker']} {item['category3']}\",  # 임베딩용 텍스트\n",
        "            \"metadata\": {\n",
        "                \"price\": int(item['lprice']),\n",
        "                \"brand\": item['brand'],\n",
        "                \"category\": f\"{item['category1']}>{item['category2']}>{item['category3']}\",\n",
        "                \"link\": item['link']\n",
        "            }\n",
        "        }\n",
        "        processed.append(data)\n",
        "    return processed\n",
        "\n",
        "# 2. Chroma DB 설정\n",
        "client = chromadb.PersistentClient(path=\"./naver_shopping_db\")\n",
        "embedding_model = embedding_functions.SentenceTransformerEmbeddingFunction(\n",
        "    model_name=\"sentence-transformers/paraphrase-multilingual-mpnet-base-v2\"\n",
        ")\n",
        "\n",
        "# 기존 컬렉션이 있으면 삭제 후 재생성\n",
        "try:\n",
        "    client.delete_collection(\"products\")\n",
        "except:\n",
        "    pass\n",
        "collection = client.create_collection(\n",
        "    name=\"products\",\n",
        "    embedding_function=embedding_model,  # 반드시 임베딩 함수 재지정\n",
        "    metadata={\"hnsw:space\": \"cosine\"}  # 거리 측정 방식 변경\n",
        ")\n",
        "\n",
        "# 3. 데이터 삽입 (API 결과 사용)\n",
        "if 'items' in result:\n",
        "    processed_data = preprocess_items(result['items'])\n",
        "\n",
        "    # 벡터 DB에 문서 추가\n",
        "    collection.add(\n",
        "        ids=[item['id'] for item in processed_data],\n",
        "        documents=[item['text'] for item in processed_data],\n",
        "        metadatas=[item['metadata'] for item in processed_data]\n",
        "    )\n",
        "    print(\"✅ 성공적으로\", len(processed_data), \"개 상품 저장됨\")\n",
        "else:\n",
        "    print(\"Error:\", result.get('error', '데이터 없음'))\n",
        "\n",
        "# 4. 검색 예시 함수\n",
        "def search_products(query, n_results=3):\n",
        "    results = collection.query(\n",
        "        query_texts=[query],\n",
        "        n_results=n_results\n",
        "    )\n",
        "    for idx, (doc, meta) in enumerate(zip(results['documents'][0], results['metadatas'][0]), 1):\n",
        "        print(f\"🔍 [{idx}] {doc}\")\n",
        "        print(f\"   가격: {meta['price']:,}원 | 브랜드: {meta['brand']}\")\n",
        "        print(f\"   카테고리: {meta['category']}\")\n",
        "        print(f\"   링크: {meta['link']}\")\n",
        "        print(\"-\"*50)"
      ],
      "metadata": {
        "id": "04HhIARLgZcr"
      },
      "execution_count": null,
      "outputs": []
    },
    {
      "cell_type": "code",
      "source": [
        "search_products(\"임산부에게 좋은 영양제\", 5)"
      ],
      "metadata": {
        "id": "MPqTJvmlgboT"
      },
      "execution_count": null,
      "outputs": []
    },
    {
      "cell_type": "code",
      "source": [
        "search_products(\"어르신들을 위한 영양제\", 5)"
      ],
      "metadata": {
        "id": "ThWFlmPJgdLl"
      },
      "execution_count": null,
      "outputs": []
    },
    {
      "cell_type": "code",
      "source": [
        "# Hugging Face 및 Google API 인증\n",
        "from google.colab import userdata\n",
        "HF_TOKEN = userdata.get('HF_TOKEN') # Hugging Face 액세스 토큰\n",
        "GOOGLE_API_KEY = userdata.get('GOOGLE_API_KEY') # Google Custom Search API 키\n",
        "GOOGLE_CSE_ID = userdata.get('GOOGLE_CSE_ID') # Programmable Search Engine ID\n",
        "OPENAI_API_KEY = userdata.get('OPENAI_API_KEY') # OpenAI API Key"
      ],
      "metadata": {
        "id": "qmAmZUrWoVWy"
      },
      "execution_count": 4,
      "outputs": []
    },
    {
      "cell_type": "code",
      "source": [
        "# 2. Google Programmable Search Engine 설정\n",
        "from googleapiclient.discovery import build\n",
        "\n",
        "def google_search(query, num=3):\n",
        "    service = build(\"customsearch\", \"v1\", developerKey=GOOGLE_API_KEY)\n",
        "    res = service.cse().list(q=query, cx=GOOGLE_CSE_ID, num=num).execute()\n",
        "    return [item[\"snippet\"] for item in res[\"items\"]]\n",
        "\n",
        "# Gemma-3-1b-it 모델 초기화\n",
        "from transformers import AutoTokenizer, AutoModelForCausalLM\n",
        "import torch\n",
        "\n",
        "tokenizer = AutoTokenizer.from_pretrained(\"google/gemma-3-1b-it\", token=HF_TOKEN)\n",
        "model = AutoModelForCausalLM.from_pretrained(\n",
        "    \"google/gemma-3-1b-it\",\n",
        "    device_map=\"auto\",\n",
        "    torch_dtype=torch.bfloat16,\n",
        "    token=HF_TOKEN\n",
        ")\n",
        "\n"
      ],
      "metadata": {
        "id": "ipYJs6ECinwO"
      },
      "execution_count": null,
      "outputs": []
    },
    {
      "cell_type": "code",
      "source": [
        "!pip install -q langchain langchain-community langchain-core langchain_openai"
      ],
      "metadata": {
        "id": "MEsn-0ARmNTU"
      },
      "execution_count": null,
      "outputs": []
    },
    {
      "cell_type": "code",
      "source": [
        "from langchain.agents import AgentExecutor, create_openai_tools_agent\n",
        "from langchain_openai import ChatOpenAI\n",
        "from langchain_core.prompts import ChatPromptTemplate, MessagesPlaceholder\n",
        "from langchain_core.tools import tool\n",
        "\n",
        "# 2. 검색 도구 정의 (Function Calling)\n",
        "@tool\n",
        "def search_products(query: str, max_results: int = 3) -> list:\n",
        "    \"\"\"제품 검색을 위해 Chroma DB를 쿼리하는 도구\"\"\"\n",
        "    results = collection.query(\n",
        "        query_texts=[query],\n",
        "        n_results=max_results\n",
        "    )\n",
        "    return [{\n",
        "        \"제품\": doc,\n",
        "        \"가격\": meta['price'],\n",
        "        \"링크\": meta['link']\n",
        "    } for doc, meta in zip(results['documents'][0], results['metadatas'][0])]\n",
        "\n",
        "# 3. 에이전트 설정\n",
        "llm = ChatOpenAI(model=\"gpt-4o-mini\", temperature=0.3, openai_api_key=OPENAI_API_KEY)\n",
        "llm_with_tools = llm.bind_tools([search_products])\n",
        "\n",
        "system_prompt = \"\"\"당신은 영양제 전문 약사 어시스턴트입니다. 다음 규칙을 준수하세요:\n",
        "- 사용자 질문에 대해 search_products 도구를 먼저 사용\n",
        "- 검색 결과를 바탕으로 정확한 제품 정보 제공\n",
        "- 가격, 성분, 스펙, 브랜드 비교시 표 형태로 응답\n",
        "- 모르는 정보는 확대 해석하지 말 것\n",
        "\"\"\"\n",
        "prompt = ChatPromptTemplate.from_messages([\n",
        "    (\"system\", system_prompt),\n",
        "    (\"human\", \"{input}\"),\n",
        "    MessagesPlaceholder(\"agent_scratchpad\")\n",
        "])\n",
        "\n",
        "tools = [search_products]\n",
        "agent = create_openai_tools_agent(llm_with_tools, tools, prompt)\n",
        "agent_executor = AgentExecutor(agent=agent, tools=tools, verbose=False) # verbose=True 로 변경안해도 됨\n"
      ],
      "metadata": {
        "id": "s-yWX8_tiors"
      },
      "execution_count": 11,
      "outputs": []
    },
    {
      "cell_type": "code",
      "source": [
        "# 4. 실행 예시\n",
        "response = agent_executor.invoke({\n",
        "    \"input\": \"종종 머리가 아프고 눈이 침침해. 어떤 영양제를 먹으면 좋을지 추천해줘. 주요 성분과 함량도 알려줘.\"\n",
        "})\n",
        "print(response['output'])"
      ],
      "metadata": {
        "id": "2esqLNX0me_i",
        "outputId": "964760bc-2f01-4f77-ae06-2bee5e56a733",
        "colab": {
          "base_uri": "https://localhost:8080/"
        }
      },
      "execution_count": 12,
      "outputs": [
        {
          "output_type": "stream",
          "name": "stdout",
          "text": [
            "다음은 두통과 눈 피로에 도움을 줄 수 있는 영양제 추천 목록입니다. 각 제품의 주요 성분과 가격을 비교해 보세요.\n",
            "\n",
            "| 제품명 | 가격 | 주요 성분 및 함량 | 링크 |\n",
            "|--------|------|-------------------|------|\n",
            "| [1+1]종근당 아임비타 이뮨플러스 샷 2박스 | 23,500원 | 비타민 C, 비타민 D, 아연 등 | [구매하기](https://smartstore.naver.com/main/products/8566190007) |\n",
            "| 얼라이브 원스데일리 멀티/포맨/우먼 60정 | 23,900원 | 비타민 B군, 비타민 C, 비타민 D, 미네랄 등 | [구매하기](https://smartstore.naver.com/main/products/309612084) |\n",
            "| 센트룸 실버 포 맨 종합 멀티 비타민 112정 | 34,900원 | 비타민 A, C, D, E, B군, 미네랄 등 | [구매하기](https://smartstore.naver.com/main/products/9244093197) |\n",
            "| 센트룸 포 맨 더블업 종합 멀티 비타민 112정 | 34,900원 | 비타민 A, C, D, E, B군, 미네랄 등 | [구매하기](https://smartstore.naver.com/main/products/10635135788) |\n",
            "| 올인원 이뮨 멀티팩 남성 여성 종합비타민 | 38,800원 | 비타민 A, C, D, E, B군, 미네랄 등 | [구매하기](https://smartstore.naver.com/main/products/9057792910) |\n",
            "\n",
            "각 제품은 다양한 비타민과 미네랄을 포함하고 있어 두통과 눈 피로에 도움을 줄 수 있습니다. 필요에 따라 선택해 보세요.\n"
          ]
        }
      ]
    }
  ]
}
{
  "nbformat": 4,
  "nbformat_minor": 0,
  "metadata": {
    "colab": {
      "provenance": [],
      "authorship_tag": "ABX9TyN9ND8G+K2KKneLoVmZZT6Y"
    },
    "kernelspec": {
      "name": "python3",
      "display_name": "Python 3"
    },
    "language_info": {
      "name": "python"
    }
  },
  "cells": [
    {
      "cell_type": "code",
      "execution_count": 1,
      "metadata": {
        "id": "zkuqQr7qfAvb",
        "colab": {
          "base_uri": "https://localhost:8080/"
        },
        "outputId": "137e5a3b-3899-4e03-c17f-6ba580e679d9"
      },
      "outputs": [
        {
          "output_type": "stream",
          "name": "stdout",
          "text": [
            "브랜드: 오쏘몰\n",
            "이름: 오쏘몰 이뮨 멀티비타민 미네랄 (액상 20ml + 정제 919mg) x 30개입, 1개\n",
            "상품ID: 51929317174\n",
            "링크: https://search.shopping.naver.com/catalog/51929317174\n",
            "--------------------------------------------------\n",
            "브랜드: 센트룸\n",
            "이름: 센트룸 실버 포 우먼 종합 멀티 비타민 <b>영양제</b> 112정 코스트코 비타민B12 대용량\n",
            "상품ID: 86787803460\n",
            "링크: https://smartstore.naver.com/main/products/9243303137\n",
            "--------------------------------------------------\n",
            "브랜드: 조아제약\n",
            "이름: 잘크톤 어린이비타민 멀티 젤리 아이 어린이<b>영양제</b> 키즈비타민 아기 유아 튼튼\n",
            "상품ID: 85645949140\n",
            "링크: https://smartstore.naver.com/main/products/8101448817\n",
            "--------------------------------------------------\n",
            "브랜드: 네츄럴라이프얼라이브\n",
            "이름: 얼라이브 원스데일리 멀티/포맨/ 우먼 60정 비타민B군 미네랄 종합<b>영양제</b>\n",
            "상품ID: 10095168405\n",
            "링크: https://smartstore.naver.com/main/products/309612084\n",
            "--------------------------------------------------\n",
            "브랜드: 센트룸\n",
            "이름: 센트룸 실버 포 맨 종합 멀티 비타민 112정 코스트코 남성 50+ 대용량 <b>영양제</b>\n",
            "상품ID: 86788593520\n",
            "링크: https://smartstore.naver.com/main/products/9244093197\n",
            "--------------------------------------------------\n",
            "브랜드: 종근당건강\n",
            "이름: [1+1]종근당 아임비타 이뮨플러스 샷 2박스 올인원<b>영양제</b> 마시는 액상 비타민\n",
            "상품ID: 86110690330\n",
            "링크: https://smartstore.naver.com/main/products/8566190007\n",
            "--------------------------------------------------\n",
            "브랜드: 센트룸\n",
            "이름: 센트룸 포 맨 더블업 종합 멀티 비타민 112정 코스트코 남성 대용량 <b>영양제</b>\n",
            "상품ID: 88179641598\n",
            "링크: https://smartstore.naver.com/main/products/10635135788\n",
            "--------------------------------------------------\n"
          ]
        }
      ],
      "source": [
        "import requests\n",
        "from urllib.parse import quote\n",
        "\n",
        "client_id = \"SWe77FM8c_EjAm5Y93h5\"\n",
        "client_secret = \"mAz_OvLf7T\"\n",
        "\n",
        "def naver_shop_search(query, display=10):\n",
        "    encoded_query = quote(query)\n",
        "    url = f\"https://openapi.naver.com/v1/search/shop.json?query={encoded_query}&display={display}&start=1&sort=sim&exclude=used:cbshop:rental\"\n",
        "\n",
        "    headers = {\n",
        "        \"X-Naver-Client-Id\": client_id,\n",
        "        \"X-Naver-Client-Secret\": client_secret\n",
        "    }\n",
        "\n",
        "    response = requests.get(url, headers=headers)\n",
        "\n",
        "    if response.status_code == 200:\n",
        "        return response.json()\n",
        "    else:\n",
        "        return {\"error\": response.status_code}\n",
        "\n",
        "result = naver_shop_search(\"영양제\", 10)\n",
        "\n",
        "if 'items' in result:\n",
        "  for item in result['items']:\n",
        "    if item['brand'] != '':\n",
        "      print(f\"브랜드: {item['brand']}\")\n",
        "      print(f\"이름: {item['title']}\")\n",
        "      print(f\"상품ID: {item['productId']}\")\n",
        "      print(f\"링크: {item['link']}\")\n",
        "      print(\"-\" * 50)\n",
        "else:\n",
        "  print(\"Error:\", result.get('error', 'Unknown error'))\n"
      ]
    },
    {
      "cell_type": "code",
      "source": [
        "!pip install -q chromadb sentence-transformers  # Chroma DB와 임베딩 모델 설치\n",
        "\n",
        "import chromadb\n",
        "from chromadb.utils import embedding_functions\n",
        "from sentence_transformers import SentenceTransformer"
      ],
      "metadata": {
        "colab": {
          "base_uri": "https://localhost:8080/"
        },
        "id": "o7R5mDSCgVX-",
        "outputId": "9ae870a4-b303-4793-a381-bd0414cdd438"
      },
      "execution_count": 2,
      "outputs": [
        {
          "output_type": "stream",
          "name": "stdout",
          "text": [
            "\u001b[?25l     \u001b[90m━━━━━━━━━━━━━━━━━━━━━━━━━━━━━━━━━━━━━━━━\u001b[0m \u001b[32m0.0/67.3 kB\u001b[0m \u001b[31m?\u001b[0m eta \u001b[36m-:--:--\u001b[0m\r\u001b[2K     \u001b[90m━━━━━━━━━━━━━━━━━━━━━━━━━━━━━━━━━━━━━━━━\u001b[0m \u001b[32m67.3/67.3 kB\u001b[0m \u001b[31m4.1 MB/s\u001b[0m eta \u001b[36m0:00:00\u001b[0m\n",
            "\u001b[?25h  Installing build dependencies ... \u001b[?25l\u001b[?25hdone\n",
            "  Getting requirements to build wheel ... \u001b[?25l\u001b[?25hdone\n",
            "  Preparing metadata (pyproject.toml) ... \u001b[?25l\u001b[?25hdone\n",
            "\u001b[2K   \u001b[90m━━━━━━━━━━━━━━━━━━━━━━━━━━━━━━━━━━━━━━━━\u001b[0m \u001b[32m19.3/19.3 MB\u001b[0m \u001b[31m57.8 MB/s\u001b[0m eta \u001b[36m0:00:00\u001b[0m\n",
            "\u001b[2K   \u001b[90m━━━━━━━━━━━━━━━━━━━━━━━━━━━━━━━━━━━━━━━━\u001b[0m \u001b[32m94.9/94.9 kB\u001b[0m \u001b[31m7.6 MB/s\u001b[0m eta \u001b[36m0:00:00\u001b[0m\n",
            "\u001b[2K   \u001b[90m━━━━━━━━━━━━━━━━━━━━━━━━━━━━━━━━━━━━━━━━\u001b[0m \u001b[32m284.2/284.2 kB\u001b[0m \u001b[31m19.6 MB/s\u001b[0m eta \u001b[36m0:00:00\u001b[0m\n",
            "\u001b[2K   \u001b[90m━━━━━━━━━━━━━━━━━━━━━━━━━━━━━━━━━━━━━━━━\u001b[0m \u001b[32m2.0/2.0 MB\u001b[0m \u001b[31m54.5 MB/s\u001b[0m eta \u001b[36m0:00:00\u001b[0m\n",
            "\u001b[2K   \u001b[90m━━━━━━━━━━━━━━━━━━━━━━━━━━━━━━━━━━━━━━━━\u001b[0m \u001b[32m101.6/101.6 kB\u001b[0m \u001b[31m6.4 MB/s\u001b[0m eta \u001b[36m0:00:00\u001b[0m\n",
            "\u001b[2K   \u001b[90m━━━━━━━━━━━━━━━━━━━━━━━━━━━━━━━━━━━━━━━━\u001b[0m \u001b[32m16.4/16.4 MB\u001b[0m \u001b[31m65.1 MB/s\u001b[0m eta \u001b[36m0:00:00\u001b[0m\n",
            "\u001b[2K   \u001b[90m━━━━━━━━━━━━━━━━━━━━━━━━━━━━━━━━━━━━━━━━\u001b[0m \u001b[32m65.8/65.8 kB\u001b[0m \u001b[31m4.4 MB/s\u001b[0m eta \u001b[36m0:00:00\u001b[0m\n",
            "\u001b[2K   \u001b[90m━━━━━━━━━━━━━━━━━━━━━━━━━━━━━━━━━━━━━━━━\u001b[0m \u001b[32m55.9/55.9 kB\u001b[0m \u001b[31m4.0 MB/s\u001b[0m eta \u001b[36m0:00:00\u001b[0m\n",
            "\u001b[2K   \u001b[90m━━━━━━━━━━━━━━━━━━━━━━━━━━━━━━━━━━━━━━━━\u001b[0m \u001b[32m194.9/194.9 kB\u001b[0m \u001b[31m13.9 MB/s\u001b[0m eta \u001b[36m0:00:00\u001b[0m\n",
            "\u001b[2K   \u001b[90m━━━━━━━━━━━━━━━━━━━━━━━━━━━━━━━━━━━━━━━━\u001b[0m \u001b[32m119.0/119.0 kB\u001b[0m \u001b[31m8.6 MB/s\u001b[0m eta \u001b[36m0:00:00\u001b[0m\n",
            "\u001b[2K   \u001b[90m━━━━━━━━━━━━━━━━━━━━━━━━━━━━━━━━━━━━━━━━\u001b[0m \u001b[32m96.7/96.7 kB\u001b[0m \u001b[31m7.3 MB/s\u001b[0m eta \u001b[36m0:00:00\u001b[0m\n",
            "\u001b[2K   \u001b[90m━━━━━━━━━━━━━━━━━━━━━━━━━━━━━━━━━━━━━━━━\u001b[0m \u001b[32m363.4/363.4 MB\u001b[0m \u001b[31m4.4 MB/s\u001b[0m eta \u001b[36m0:00:00\u001b[0m\n",
            "\u001b[2K   \u001b[90m━━━━━━━━━━━━━━━━━━━━━━━━━━━━━━━━━━━━━━━━\u001b[0m \u001b[32m13.8/13.8 MB\u001b[0m \u001b[31m76.6 MB/s\u001b[0m eta \u001b[36m0:00:00\u001b[0m\n",
            "\u001b[2K   \u001b[90m━━━━━━━━━━━━━━━━━━━━━━━━━━━━━━━━━━━━━━━━\u001b[0m \u001b[32m24.6/24.6 MB\u001b[0m \u001b[31m35.0 MB/s\u001b[0m eta \u001b[36m0:00:00\u001b[0m\n",
            "\u001b[2K   \u001b[90m━━━━━━━━━━━━━━━━━━━━━━━━━━━━━━━━━━━━━━━━\u001b[0m \u001b[32m883.7/883.7 kB\u001b[0m \u001b[31m41.3 MB/s\u001b[0m eta \u001b[36m0:00:00\u001b[0m\n",
            "\u001b[2K   \u001b[90m━━━━━━━━━━━━━━━━━━━━━━━━━━━━━━━━━━━━━━━━\u001b[0m \u001b[32m664.8/664.8 MB\u001b[0m \u001b[31m2.7 MB/s\u001b[0m eta \u001b[36m0:00:00\u001b[0m\n",
            "\u001b[2K   \u001b[90m━━━━━━━━━━━━━━━━━━━━━━━━━━━━━━━━━━━━━━━━\u001b[0m \u001b[32m211.5/211.5 MB\u001b[0m \u001b[31m5.8 MB/s\u001b[0m eta \u001b[36m0:00:00\u001b[0m\n",
            "\u001b[2K   \u001b[90m━━━━━━━━━━━━━━━━━━━━━━━━━━━━━━━━━━━━━━━━\u001b[0m \u001b[32m56.3/56.3 MB\u001b[0m \u001b[31m12.9 MB/s\u001b[0m eta \u001b[36m0:00:00\u001b[0m\n",
            "\u001b[2K   \u001b[90m━━━━━━━━━━━━━━━━━━━━━━━━━━━━━━━━━━━━━━━━\u001b[0m \u001b[32m127.9/127.9 MB\u001b[0m \u001b[31m7.4 MB/s\u001b[0m eta \u001b[36m0:00:00\u001b[0m\n",
            "\u001b[2K   \u001b[90m━━━━━━━━━━━━━━━━━━━━━━━━━━━━━━━━━━━━━━━━\u001b[0m \u001b[32m207.5/207.5 MB\u001b[0m \u001b[31m5.8 MB/s\u001b[0m eta \u001b[36m0:00:00\u001b[0m\n",
            "\u001b[2K   \u001b[90m━━━━━━━━━━━━━━━━━━━━━━━━━━━━━━━━━━━━━━━━\u001b[0m \u001b[32m21.1/21.1 MB\u001b[0m \u001b[31m88.0 MB/s\u001b[0m eta \u001b[36m0:00:00\u001b[0m\n",
            "\u001b[2K   \u001b[90m━━━━━━━━━━━━━━━━━━━━━━━━━━━━━━━━━━━━━━━━\u001b[0m \u001b[32m62.4/62.4 kB\u001b[0m \u001b[31m4.1 MB/s\u001b[0m eta \u001b[36m0:00:00\u001b[0m\n",
            "\u001b[2K   \u001b[90m━━━━━━━━━━━━━━━━━━━━━━━━━━━━━━━━━━━━━━━━\u001b[0m \u001b[32m459.8/459.8 kB\u001b[0m \u001b[31m24.9 MB/s\u001b[0m eta \u001b[36m0:00:00\u001b[0m\n",
            "\u001b[2K   \u001b[90m━━━━━━━━━━━━━━━━━━━━━━━━━━━━━━━━━━━━━━━━\u001b[0m \u001b[32m71.5/71.5 kB\u001b[0m \u001b[31m5.0 MB/s\u001b[0m eta \u001b[36m0:00:00\u001b[0m\n",
            "\u001b[2K   \u001b[90m━━━━━━━━━━━━━━━━━━━━━━━━━━━━━━━━━━━━━━━━\u001b[0m \u001b[32m4.0/4.0 MB\u001b[0m \u001b[31m86.7 MB/s\u001b[0m eta \u001b[36m0:00:00\u001b[0m\n",
            "\u001b[2K   \u001b[90m━━━━━━━━━━━━━━━━━━━━━━━━━━━━━━━━━━━━━━━━\u001b[0m \u001b[32m454.8/454.8 kB\u001b[0m \u001b[31m28.7 MB/s\u001b[0m eta \u001b[36m0:00:00\u001b[0m\n",
            "\u001b[2K   \u001b[90m━━━━━━━━━━━━━━━━━━━━━━━━━━━━━━━━━━━━━━━━\u001b[0m \u001b[32m46.0/46.0 kB\u001b[0m \u001b[31m3.0 MB/s\u001b[0m eta \u001b[36m0:00:00\u001b[0m\n",
            "\u001b[2K   \u001b[90m━━━━━━━━━━━━━━━━━━━━━━━━━━━━━━━━━━━━━━━━\u001b[0m \u001b[32m86.8/86.8 kB\u001b[0m \u001b[31m6.1 MB/s\u001b[0m eta \u001b[36m0:00:00\u001b[0m\n",
            "\u001b[?25h  Building wheel for pypika (pyproject.toml) ... \u001b[?25l\u001b[?25hdone\n"
          ]
        }
      ]
    },
    {
      "cell_type": "code",
      "source": [
        "# 1. 데이터 전처리 함수\n",
        "def preprocess_items(items):\n",
        "    processed = []\n",
        "    for item in items:\n",
        "        data = {\n",
        "            \"id\": item['productId'],\n",
        "            \"text\": f\"{item['title']} {item['brand']} {item['maker']} {item['category3']}\",  # 임베딩용 텍스트\n",
        "            \"metadata\": {\n",
        "                \"price\": int(item['lprice']),\n",
        "                \"brand\": item['brand'],\n",
        "                \"category\": f\"{item['category1']}>{item['category2']}>{item['category3']}\",\n",
        "                \"link\": item['link']\n",
        "            }\n",
        "        }\n",
        "        processed.append(data)\n",
        "    return processed\n",
        "\n",
        "# 2. Chroma DB 설정\n",
        "\n",
        "# Chroma DB 경로 초기화\n",
        "# !rm -rf ./naver_shopping_db  # Colab에서 실행시\n",
        "\n",
        "# 클라이언트 재생성\n",
        "client = chromadb.PersistentClient(path=\"./naver_shopping_db\")\n",
        "embedding_model = embedding_functions.SentenceTransformerEmbeddingFunction(\n",
        "    model_name=\"sentence-transformers/paraphrase-multilingual-mpnet-base-v2\"\n",
        ")\n",
        "# 기존 컬렉션이 있으면 로드, 없으면 새로 생성\n",
        "# collection = client.get_or_create_collection(\n",
        "#     name=\"products\",\n",
        "#     embedding_function=embedding_model  # 반드시 임베딩 함수 재지정\n",
        "# )\n",
        "# 기존 컬렉션 삭제 후 재생성\n",
        "try:\n",
        "    client.delete_collection(\"products\")\n",
        "except:\n",
        "    pass\n",
        "collection = client.create_collection(\n",
        "    name=\"products\",\n",
        "    embedding_function=embedding_model,  # 반드시 임베딩 함수 재지정\n",
        "    metadata={\"hnsw:space\": \"cosine\"}  # 거리 측정 방식 변경\n",
        ")  # 원래 코드 유지\n",
        "\n",
        "# 3. 데이터 삽입 (API 결과 사용)\n",
        "if 'items' in result:\n",
        "    processed_data = preprocess_items(result['items'])\n",
        "\n",
        "    # 벡터 DB에 문서 추가\n",
        "    collection.add(\n",
        "        ids=[item['id'] for item in processed_data],\n",
        "        documents=[item['text'] for item in processed_data],\n",
        "        metadatas=[item['metadata'] for item in processed_data]\n",
        "    )\n",
        "    print(\"✅ 성공적으로\", len(processed_data), \"개 상품 저장됨\")\n",
        "else:\n",
        "    print(\"Error:\", result.get('error', '데이터 없음'))\n",
        "\n",
        "# 4. 검색 예시 함수\n",
        "def search_products(query, n_results=3):\n",
        "    results = collection.query(\n",
        "        query_texts=[query],\n",
        "        n_results=n_results\n",
        "    )\n",
        "    for idx, (doc, meta) in enumerate(zip(results['documents'][0], results['metadatas'][0]), 1):\n",
        "        print(f\"🔍 [{idx}] {doc}\")\n",
        "        print(f\"   가격: {meta['price']:,}원 | 브랜드: {meta['brand']}\")\n",
        "        print(f\"   카테고리: {meta['category']}\")\n",
        "        print(f\"   링크: {meta['link']}\")\n",
        "        print(\"-\"*50)"
      ],
      "metadata": {
        "id": "04HhIARLgZcr"
      },
      "execution_count": null,
      "outputs": []
    },
    {
      "cell_type": "code",
      "source": [
        "search_products(\"임산부에게 좋은 영양제\", 5)"
      ],
      "metadata": {
        "colab": {
          "base_uri": "https://localhost:8080/"
        },
        "id": "MPqTJvmlgboT",
        "outputId": "7b90dbb0-8169-404c-d5c9-f29b43c4f253"
      },
      "execution_count": 4,
      "outputs": [
        {
          "output_type": "stream",
          "name": "stdout",
          "text": [
            "🔍 [1] 잘크톤 어린이비타민 멀티 젤리 아이 어린이<b>영양제</b> 키즈비타민 아기 유아 튼튼 조아제약  비타민제\n",
            "   가격: 31,100원 | 브랜드: 조아제약\n",
            "   카테고리: 식품>건강식품>비타민제\n",
            "   링크: https://smartstore.naver.com/main/products/8101448817\n",
            "--------------------------------------------------\n",
            "🔍 [2] 올인원<b>영양제</b> 이뮨 멀티팩 남성 여성 종합비타민   비타민제\n",
            "   가격: 38,800원 | 브랜드: \n",
            "   카테고리: 식품>건강식품>비타민제\n",
            "   링크: https://smartstore.naver.com/main/products/9057792910\n",
            "--------------------------------------------------\n",
            "🔍 [3] 얼라이브 원스데일리 멀티/포맨/ 우먼 60정 비타민B군 미네랄 종합<b>영양제</b> 네츄럴라이프얼라이브 네이쳐스웨이 비타민제\n",
            "   가격: 23,900원 | 브랜드: 네츄럴라이프얼라이브\n",
            "   카테고리: 식품>건강식품>비타민제\n",
            "   링크: https://smartstore.naver.com/main/products/309612084\n",
            "--------------------------------------------------\n",
            "🔍 [4] [1+1]종근당 아임비타 이뮨플러스 샷 2박스 올인원<b>영양제</b> 마시는 액상 비타민 종근당건강  비타민제\n",
            "   가격: 23,500원 | 브랜드: 종근당건강\n",
            "   카테고리: 식품>건강식품>비타민제\n",
            "   링크: https://smartstore.naver.com/main/products/8566190007\n",
            "--------------------------------------------------\n",
            "🔍 [5] 센트룸 실버 포 맨 종합 멀티 비타민 112정 코스트코 남성 50+ 대용량 <b>영양제</b> 센트룸 화이자 비타민제\n",
            "   가격: 34,900원 | 브랜드: 센트룸\n",
            "   카테고리: 식품>건강식품>비타민제\n",
            "   링크: https://smartstore.naver.com/main/products/9244093197\n",
            "--------------------------------------------------\n"
          ]
        }
      ]
    },
    {
      "cell_type": "code",
      "source": [
        "search_products(\"어르신들을 위한 영양제\", 5)"
      ],
      "metadata": {
        "colab": {
          "base_uri": "https://localhost:8080/"
        },
        "id": "ThWFlmPJgdLl",
        "outputId": "ce2043fa-61e4-49da-c333-c993cc83c6b2"
      },
      "execution_count": 5,
      "outputs": [
        {
          "output_type": "stream",
          "name": "stdout",
          "text": [
            "🔍 [1] 얼라이브 원스데일리 멀티/포맨/ 우먼 60정 비타민B군 미네랄 종합<b>영양제</b> 네츄럴라이프얼라이브 네이쳐스웨이 비타민제\n",
            "   가격: 23,900원 | 브랜드: 네츄럴라이프얼라이브\n",
            "   카테고리: 식품>건강식품>비타민제\n",
            "   링크: https://smartstore.naver.com/main/products/309612084\n",
            "--------------------------------------------------\n",
            "🔍 [2] 센트룸 실버 포 맨 종합 멀티 비타민 112정 코스트코 남성 50+ 대용량 <b>영양제</b> 센트룸 화이자 비타민제\n",
            "   가격: 34,900원 | 브랜드: 센트룸\n",
            "   카테고리: 식품>건강식품>비타민제\n",
            "   링크: https://smartstore.naver.com/main/products/9244093197\n",
            "--------------------------------------------------\n",
            "🔍 [3] 올인원<b>영양제</b> 이뮨 멀티팩 남성 여성 종합비타민   비타민제\n",
            "   가격: 38,800원 | 브랜드: \n",
            "   카테고리: 식품>건강식품>비타민제\n",
            "   링크: https://smartstore.naver.com/main/products/9057792910\n",
            "--------------------------------------------------\n",
            "🔍 [4] [1+1]종근당 아임비타 이뮨플러스 샷 2박스 올인원<b>영양제</b> 마시는 액상 비타민 종근당건강  비타민제\n",
            "   가격: 23,500원 | 브랜드: 종근당건강\n",
            "   카테고리: 식품>건강식품>비타민제\n",
            "   링크: https://smartstore.naver.com/main/products/8566190007\n",
            "--------------------------------------------------\n",
            "🔍 [5] 센트룸 포 맨 더블업 종합 멀티 비타민 112정 코스트코 남성 대용량 <b>영양제</b> 센트룸 콜마비앤에이치 비타민제\n",
            "   가격: 34,900원 | 브랜드: 센트룸\n",
            "   카테고리: 식품>건강식품>비타민제\n",
            "   링크: https://smartstore.naver.com/main/products/10635135788\n",
            "--------------------------------------------------\n"
          ]
        }
      ]
    },
    {
      "cell_type": "code",
      "source": [
        "# Hugging Face 및 Google API 인증\n",
        "from google.colab import userdata\n",
        "HF_TOKEN = userdata.get('HF_TOKEN') # Hugging Face 액세스 토큰\n",
        "GOOGLE_API_KEY = userdata.get('GOOGLE_API_KEY') # Google Custom Search API 키\n",
        "GOOGLE_CSE_ID = userdata.get('GOOGLE_CSE_ID') # Programmable Search Engine ID\n",
        "OPENAI_API_KEY = userdata.get('OPENAI_API_KEY') # OpenAI API Key"
      ],
      "metadata": {
        "id": "qmAmZUrWoVWy"
      },
      "execution_count": null,
      "outputs": []
    },
    {
      "cell_type": "code",
      "source": [
        "# 2. Google Programmable Search Engine 설정\n",
        "from googleapiclient.discovery import build\n",
        "\n",
        "def google_search(query, num=3):\n",
        "    service = build(\"customsearch\", \"v1\", developerKey=GOOGLE_API_KEY)\n",
        "    res = service.cse().list(q=query, cx=GOOGLE_CSE_ID, num=num).execute()\n",
        "    return [item[\"snippet\"] for item in res[\"items\"]]\n",
        "\n",
        "# Gemma-3-1b-it 모델 초기화\n",
        "from transformers import AutoTokenizer, AutoModelForCausalLM\n",
        "import torch\n",
        "\n",
        "tokenizer = AutoTokenizer.from_pretrained(\"google/gemma-3-1b-it\", token=HF_TOKEN)\n",
        "model = AutoModelForCausalLM.from_pretrained(\n",
        "    \"google/gemma-3-1b-it\",\n",
        "    device_map=\"auto\",\n",
        "    torch_dtype=torch.bfloat16,\n",
        "    token=HF_TOKEN\n",
        ")\n",
        "\n"
      ],
      "metadata": {
        "id": "ipYJs6ECinwO"
      },
      "execution_count": null,
      "outputs": []
    },
    {
      "cell_type": "code",
      "source": [
        "!pip install -q langchain langchain-community langchain-core chromadb langchain_openai"
      ],
      "metadata": {
        "colab": {
          "base_uri": "https://localhost:8080/"
        },
        "id": "MEsn-0ARmNTU",
        "outputId": "47d262b8-4c7a-4647-ec1b-16353e977230"
      },
      "execution_count": 9,
      "outputs": [
        {
          "output_type": "stream",
          "name": "stdout",
          "text": [
            "\u001b[?25l   \u001b[90m━━━━━━━━━━━━━━━━━━━━━━━━━━━━━━━━━━━━━━━━\u001b[0m \u001b[32m0.0/64.5 kB\u001b[0m \u001b[31m?\u001b[0m eta \u001b[36m-:--:--\u001b[0m\r\u001b[2K   \u001b[90m━━━━━━━━━━━━━━━━━━━━━━━━━━━━━━━━━━━━━━━━\u001b[0m \u001b[32m64.5/64.5 kB\u001b[0m \u001b[31m3.6 MB/s\u001b[0m eta \u001b[36m0:00:00\u001b[0m\n",
            "\u001b[?25h\u001b[?25l   \u001b[90m━━━━━━━━━━━━━━━━━━━━━━━━━━━━━━━━━━━━━━━━\u001b[0m \u001b[32m0.0/438.5 kB\u001b[0m \u001b[31m?\u001b[0m eta \u001b[36m-:--:--\u001b[0m\r\u001b[2K   \u001b[90m━━━━━━━━━━━━━━━━━━━━━━━━━━━━━━━━━━━━━━━━\u001b[0m \u001b[32m438.5/438.5 kB\u001b[0m \u001b[31m22.0 MB/s\u001b[0m eta \u001b[36m0:00:00\u001b[0m\n",
            "\u001b[?25h"
          ]
        }
      ]
    },
    {
      "cell_type": "code",
      "source": [
        "from langchain.agents import AgentExecutor, create_openai_tools_agent\n",
        "from langchain_openai import ChatOpenAI\n",
        "from langchain_core.prompts import ChatPromptTemplate, MessagesPlaceholder\n",
        "from langchain_core.tools import tool\n",
        "\n",
        "# 2. 검색 도구 정의 (Function Calling)\n",
        "@tool\n",
        "def search_products(query: str, max_results: int = 3) -> list:\n",
        "    \"\"\"제품 검색을 위해 Chroma DB를 쿼리하는 도구\"\"\"\n",
        "    results = collection.query(\n",
        "        query_texts=[query],\n",
        "        n_results=max_results\n",
        "    )\n",
        "    return [{\n",
        "        \"제품\": doc,\n",
        "        \"가격\": meta['price'],\n",
        "        \"링크\": meta['link']\n",
        "    } for doc, meta in zip(results['documents'][0], results['metadatas'][0])]\n",
        "\n",
        "# 3. 에이전트 설정\n",
        "# llm = ChatOpenAI(model=\"gpt-4-turbo\", temperature=0.3, openai_api_key=OPENAI_API_KEY)\n",
        "llm = ChatOpenAI(model=\"gpt-3.5-turbo\", temperature=0.3, openai_api_key=OPENAI_API_KEY)\n",
        "llm_with_tools = llm.bind_tools([search_products])\n",
        "\n",
        "prompt = ChatPromptTemplate.from_messages([\n",
        "    (\"system\", \"당신은 영양제 전문 약사입니다. 검색 도구를 적절히 사용해 질문에 답변하세요.\"),\n",
        "    MessagesPlaceholder(\"chat_history\", optional=True),\n",
        "    (\"human\", \"{input}\"),\n",
        "    MessagesPlaceholder(\"agent_scratchpad\")\n",
        "])\n",
        "\n",
        "tools = [search_products]\n",
        "agent = create_openai_tools_agent(llm_with_tools, tools, prompt)\n",
        "agent_executor = AgentExecutor(agent=agent, tools=tools, verbose=True)\n"
      ],
      "metadata": {
        "id": "s-yWX8_tiors"
      },
      "execution_count": 24,
      "outputs": []
    },
    {
      "cell_type": "code",
      "source": [
        "# 4. 실행 예시\n",
        "response = agent_executor.invoke({\n",
        "    \"input\": \"임산부를 위한 영양제를 추천해줘\"\n",
        "})\n",
        "print(response['output'])"
      ],
      "metadata": {
        "id": "2esqLNX0me_i"
      },
      "execution_count": null,
      "outputs": []
    }
  ]
}
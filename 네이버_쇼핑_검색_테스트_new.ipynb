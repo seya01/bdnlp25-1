{
  "nbformat": 4,
  "nbformat_minor": 0,
  "metadata": {
    "colab": {
      "provenance": []
    },
    "kernelspec": {
      "name": "python3",
      "display_name": "Python 3"
    },
    "language_info": {
      "name": "python"
    },
    "widgets": {
      "application/vnd.jupyter.widget-state+json": {
        "49527aff5a884a0f8d132d69ebbc3feb": {
          "model_module": "@jupyter-widgets/controls",
          "model_name": "VBoxModel",
          "model_module_version": "1.5.0",
          "state": {
            "_dom_classes": [],
            "_model_module": "@jupyter-widgets/controls",
            "_model_module_version": "1.5.0",
            "_model_name": "VBoxModel",
            "_view_count": null,
            "_view_module": "@jupyter-widgets/controls",
            "_view_module_version": "1.5.0",
            "_view_name": "VBoxView",
            "box_style": "",
            "children": [
              "IPY_MODEL_c33f80e0b00642018cffd751c3dab90b",
              "IPY_MODEL_dfdcb631ba11495d94f55c4b08c61850",
              "IPY_MODEL_56db36bc47c0419781128d2b59acf43b",
              "IPY_MODEL_821604d1e8cd4bb080632ee8e9e00b31",
              "IPY_MODEL_65ff501e348042d9a10b5ce2f2b4fc1b",
              "IPY_MODEL_3baf4290637b40b8a7f6ef76bc94d7d1",
              "IPY_MODEL_3895d3414bdf4815950bbd531f39f632"
            ],
            "layout": "IPY_MODEL_9b47928ad0e848dfb308d66f4fdf3a35"
          }
        },
        "c33f80e0b00642018cffd751c3dab90b": {
          "model_module": "@jupyter-widgets/controls",
          "model_name": "ToggleButtonsModel",
          "model_module_version": "1.5.0",
          "state": {
            "_dom_classes": [],
            "_model_module": "@jupyter-widgets/controls",
            "_model_module_version": "1.5.0",
            "_model_name": "ToggleButtonsModel",
            "_options_labels": [
              "남성",
              "여성"
            ],
            "_view_count": null,
            "_view_module": "@jupyter-widgets/controls",
            "_view_module_version": "1.5.0",
            "_view_name": "ToggleButtonsView",
            "button_style": "",
            "description": "성별:",
            "description_tooltip": null,
            "disabled": false,
            "icons": [],
            "index": 0,
            "layout": "IPY_MODEL_cf466a9187fa4d9d9cab6c3878bc3e67",
            "style": "IPY_MODEL_888fdce1b2524b5196339722fd2dbc85",
            "tooltips": []
          }
        },
        "dfdcb631ba11495d94f55c4b08c61850": {
          "model_module": "@jupyter-widgets/controls",
          "model_name": "IntTextModel",
          "model_module_version": "1.5.0",
          "state": {
            "_dom_classes": [],
            "_model_module": "@jupyter-widgets/controls",
            "_model_module_version": "1.5.0",
            "_model_name": "IntTextModel",
            "_view_count": null,
            "_view_module": "@jupyter-widgets/controls",
            "_view_module_version": "1.5.0",
            "_view_name": "IntTextView",
            "continuous_update": false,
            "description": "만 나이:",
            "description_tooltip": null,
            "disabled": false,
            "layout": "IPY_MODEL_7fee6d3e5b774cc4a159cd7debef9189",
            "step": 1,
            "style": "IPY_MODEL_bc12e997fa7d4ed2b9acb524658e5dfa",
            "value": 30
          }
        },
        "56db36bc47c0419781128d2b59acf43b": {
          "model_module": "@jupyter-widgets/controls",
          "model_name": "ToggleButtonsModel",
          "model_module_version": "1.5.0",
          "state": {
            "_dom_classes": [],
            "_model_module": "@jupyter-widgets/controls",
            "_model_module_version": "1.5.0",
            "_model_name": "ToggleButtonsModel",
            "_options_labels": [
              "해당 없음",
              "임신 중",
              "임신 가능성"
            ],
            "_view_count": null,
            "_view_module": "@jupyter-widgets/controls",
            "_view_module_version": "1.5.0",
            "_view_name": "ToggleButtonsView",
            "button_style": "",
            "description": "임신 여부:",
            "description_tooltip": null,
            "disabled": false,
            "icons": [],
            "index": 0,
            "layout": "IPY_MODEL_97115672cbf0459781d0372d346df795",
            "style": "IPY_MODEL_23ba52e4e2a6446baf2f502574b09831",
            "tooltips": []
          }
        },
        "821604d1e8cd4bb080632ee8e9e00b31": {
          "model_module": "@jupyter-widgets/controls",
          "model_name": "ToggleButtonsModel",
          "model_module_version": "1.5.0",
          "state": {
            "_dom_classes": [],
            "_model_module": "@jupyter-widgets/controls",
            "_model_module_version": "1.5.0",
            "_model_name": "ToggleButtonsModel",
            "_options_labels": [
              "식습관 분석을 통한 영양제 추천",
              "불편 현상에 따른 영양제 추천",
              "영양제 과다 복용 확인"
            ],
            "_view_count": null,
            "_view_module": "@jupyter-widgets/controls",
            "_view_module_version": "1.5.0",
            "_view_name": "ToggleButtonsView",
            "button_style": "",
            "description": "메뉴:",
            "description_tooltip": null,
            "disabled": false,
            "icons": [],
            "index": 1,
            "layout": "IPY_MODEL_146da3ab866240b9a7c08f5b5fa6d2a8",
            "style": "IPY_MODEL_6f5c442056524381b8b079b416caee20",
            "tooltips": []
          }
        },
        "65ff501e348042d9a10b5ce2f2b4fc1b": {
          "model_module": "@jupyter-widgets/controls",
          "model_name": "TextModel",
          "model_module_version": "1.5.0",
          "state": {
            "_dom_classes": [],
            "_model_module": "@jupyter-widgets/controls",
            "_model_module_version": "1.5.0",
            "_model_name": "TextModel",
            "_view_count": null,
            "_view_module": "@jupyter-widgets/controls",
            "_view_module_version": "1.5.0",
            "_view_name": "TextView",
            "continuous_update": true,
            "description": "입력:",
            "description_tooltip": null,
            "disabled": false,
            "layout": "IPY_MODEL_ee195e401a814373b8ada03464b591b7",
            "placeholder": "증상 또는 복용 제품 입력",
            "style": "IPY_MODEL_ee1b9959aab246a8a0297c6e6ccdb945",
            "value": "눈이 종종 피곤해"
          }
        },
        "3baf4290637b40b8a7f6ef76bc94d7d1": {
          "model_module": "@jupyter-widgets/controls",
          "model_name": "ButtonModel",
          "model_module_version": "1.5.0",
          "state": {
            "_dom_classes": [],
            "_model_module": "@jupyter-widgets/controls",
            "_model_module_version": "1.5.0",
            "_model_name": "ButtonModel",
            "_view_count": null,
            "_view_module": "@jupyter-widgets/controls",
            "_view_module_version": "1.5.0",
            "_view_name": "ButtonView",
            "button_style": "success",
            "description": "제출",
            "disabled": false,
            "icon": "",
            "layout": "IPY_MODEL_55fc5f38c72747ef9274eeff13173e29",
            "style": "IPY_MODEL_e6ef3d46f8434ee38e9797bc9a83e329",
            "tooltip": ""
          }
        },
        "3895d3414bdf4815950bbd531f39f632": {
          "model_module": "@jupyter-widgets/output",
          "model_name": "OutputModel",
          "model_module_version": "1.0.0",
          "state": {
            "_dom_classes": [],
            "_model_module": "@jupyter-widgets/output",
            "_model_module_version": "1.0.0",
            "_model_name": "OutputModel",
            "_view_count": null,
            "_view_module": "@jupyter-widgets/output",
            "_view_module_version": "1.0.0",
            "_view_name": "OutputView",
            "layout": "IPY_MODEL_f89c2ab843f745f4acbadb515df880dd",
            "msg_id": "",
            "outputs": [
              {
                "output_type": "stream",
                "name": "stdout",
                "text": [
                  "사용자 정보: {'성별': '남성', '나이': 30, '임신 여부': '해당 없음', '선택 기능': '불편 현상에 따른 영양제 추천'}\n",
                  "선택한 기능: 불편 현상에 따른 영양제 추천\n",
                  "\n",
                  "현재 messages: [{'role': 'system', 'content': '너는 건강 기반의 영양제 조언 전문가야. 증상을 분석해 사용자에게 가장 적절한 영양소를 1가지 추천하거나, 과다 복용 시 제거가 필요한 영양소 하나를 찾으세요.'}, {'role': 'user', 'content': '\\n    사용자 정보:\\n    - 성별: 남성\\n    - 나이: 30\\n    - 임신 여부: 해당 없음\\n    - 선택 기능: 불편 현상에 따른 영양제 추천\\n\\n    증상: 눈이 종종 피곤해\\n\\n증상을 분석해 사용자에게 가장 적절한 영양소를 1가지 추천하거나, 과다 복용 시 제거가 필요한 영양소 하나를 찾으세요.\\n최종 결과를 표로 정리하세요. 제조사, 제품명, 영양소 스펙, 구매 링크 입니다.\\n    '}]\n"
                ]
              },
              {
                "output_type": "stream",
                "name": "stdout",
                "text": [
                  "호출된 함수: recommend_nutrient\n",
                  "함수 인자(raw): {\"nutrient\":\"루테인\",\"action\":\"추천\",\"query\":\"눈이 종종 피곤해\"}\n",
                  "추천 영양소: 루테인 (추천)\n"
                ]
              },
              {
                "output_type": "stream",
                "name": "stdout",
                "text": [
                  "호출된 함수: vectordb_search\n",
                  "함수 인자(raw): {\"query\":\"루테인\"}\n",
                  "메세지:  ChatCompletionMessage(content=None, refusal=None, role='assistant', annotations=[], audio=None, function_call=FunctionCall(arguments='{\"query\":\"루테인\"}', name='vectordb_search'), tool_calls=None)\n"
                ]
              },
              {
                "output_type": "stream",
                "name": "stdout",
                "text": [
                  "호출된 함수: google_search\n",
                  "함수 인자(raw): {\"query\":\"루테인 영양제\"}\n",
                  "메세지:  ChatCompletionMessage(content=None, refusal=None, role='assistant', annotations=[], audio=None, function_call=FunctionCall(arguments='{\"query\":\"루테인 영양제\"}', name='google_search'), tool_calls=None)\n"
                ]
              },
              {
                "output_type": "stream",
                "name": "stdout",
                "text": [
                  "\n",
                  "최종 결과:\n",
                  "\n",
                  "| 제조사 | 제품명 | 주요 성분 | 함량 | 링크 |\n",
                  "|--------|--------|-----------|------|------|\n",
                  "| 콜마비앤에이치 6개월 루테인 정제 | 루테인 적합 프리미엄 루테인 컴플렉스 | 루테인 | 루테인  | [링크](https://smartstore.naver.com/main/products/5160153088) |\n",
                  "| 아이언클라우드 루테인 7일 쇼트 플러스 이제스트 루테인 플러스 | 루테인 | 루테인 | 20mg | [링크](https://smartstore.naver.com/main/products/9064259249) |\n",
                  "| 크리스현데이터자 월극노루테인 루테인 | 루테인 | 루테인 | 정보 없음 | [링크](https://link.coupang.com/re/PCSNAVERPCSDP?pageKey=5378668274&ctag=5378668274&lptag=l1091112333699&itemId=93139131619&vendorItemId=87029423180&spec=10305197) |\n",
                  "| 아이앤아이닥터 발걸음 루테인 아스타잔틴 14일 닦는 약 쇼트 루테인 안투시안 전리기 루테인 프리미엄 | 루테인 | 루테인 | 정보 없음 | [링크](https://smartstore.naver.com/main/products/11097440087) |\n",
                  "| 샌들라인 우런타 루테인순정 8개월 월가게 개방 루테인 루테인 | 루테인 | 루테인 | 정보 없음 | [링크](https://smartstore.naver.com/main/products/6537697685) |\n",
                  "| 소프트웨어 루테인 112정 건강 성분 루테인 | 루테인 | 루테인  | 780mg x 120정 | [링크](https://smartstore.naver.com/main/products/2081428436) |\n",
                  "※ 이 답변은 빅데이터 기반으로 제공되며, 정확한 복약은 전문가 상담이 필요합니다.\n"
                ]
              }
            ]
          }
        },
        "9b47928ad0e848dfb308d66f4fdf3a35": {
          "model_module": "@jupyter-widgets/base",
          "model_name": "LayoutModel",
          "model_module_version": "1.2.0",
          "state": {
            "_model_module": "@jupyter-widgets/base",
            "_model_module_version": "1.2.0",
            "_model_name": "LayoutModel",
            "_view_count": null,
            "_view_module": "@jupyter-widgets/base",
            "_view_module_version": "1.2.0",
            "_view_name": "LayoutView",
            "align_content": null,
            "align_items": null,
            "align_self": null,
            "border": null,
            "bottom": null,
            "display": null,
            "flex": null,
            "flex_flow": null,
            "grid_area": null,
            "grid_auto_columns": null,
            "grid_auto_flow": null,
            "grid_auto_rows": null,
            "grid_column": null,
            "grid_gap": null,
            "grid_row": null,
            "grid_template_areas": null,
            "grid_template_columns": null,
            "grid_template_rows": null,
            "height": null,
            "justify_content": null,
            "justify_items": null,
            "left": null,
            "margin": null,
            "max_height": null,
            "max_width": null,
            "min_height": null,
            "min_width": null,
            "object_fit": null,
            "object_position": null,
            "order": null,
            "overflow": null,
            "overflow_x": null,
            "overflow_y": null,
            "padding": null,
            "right": null,
            "top": null,
            "visibility": null,
            "width": null
          }
        },
        "cf466a9187fa4d9d9cab6c3878bc3e67": {
          "model_module": "@jupyter-widgets/base",
          "model_name": "LayoutModel",
          "model_module_version": "1.2.0",
          "state": {
            "_model_module": "@jupyter-widgets/base",
            "_model_module_version": "1.2.0",
            "_model_name": "LayoutModel",
            "_view_count": null,
            "_view_module": "@jupyter-widgets/base",
            "_view_module_version": "1.2.0",
            "_view_name": "LayoutView",
            "align_content": null,
            "align_items": null,
            "align_self": null,
            "border": null,
            "bottom": null,
            "display": null,
            "flex": null,
            "flex_flow": null,
            "grid_area": null,
            "grid_auto_columns": null,
            "grid_auto_flow": null,
            "grid_auto_rows": null,
            "grid_column": null,
            "grid_gap": null,
            "grid_row": null,
            "grid_template_areas": null,
            "grid_template_columns": null,
            "grid_template_rows": null,
            "height": null,
            "justify_content": null,
            "justify_items": null,
            "left": null,
            "margin": null,
            "max_height": null,
            "max_width": null,
            "min_height": null,
            "min_width": null,
            "object_fit": null,
            "object_position": null,
            "order": null,
            "overflow": null,
            "overflow_x": null,
            "overflow_y": null,
            "padding": null,
            "right": null,
            "top": null,
            "visibility": null,
            "width": null
          }
        },
        "888fdce1b2524b5196339722fd2dbc85": {
          "model_module": "@jupyter-widgets/controls",
          "model_name": "ToggleButtonsStyleModel",
          "model_module_version": "1.5.0",
          "state": {
            "_model_module": "@jupyter-widgets/controls",
            "_model_module_version": "1.5.0",
            "_model_name": "ToggleButtonsStyleModel",
            "_view_count": null,
            "_view_module": "@jupyter-widgets/base",
            "_view_module_version": "1.2.0",
            "_view_name": "StyleView",
            "button_width": "",
            "description_width": "",
            "font_weight": ""
          }
        },
        "7fee6d3e5b774cc4a159cd7debef9189": {
          "model_module": "@jupyter-widgets/base",
          "model_name": "LayoutModel",
          "model_module_version": "1.2.0",
          "state": {
            "_model_module": "@jupyter-widgets/base",
            "_model_module_version": "1.2.0",
            "_model_name": "LayoutModel",
            "_view_count": null,
            "_view_module": "@jupyter-widgets/base",
            "_view_module_version": "1.2.0",
            "_view_name": "LayoutView",
            "align_content": null,
            "align_items": null,
            "align_self": null,
            "border": null,
            "bottom": null,
            "display": null,
            "flex": null,
            "flex_flow": null,
            "grid_area": null,
            "grid_auto_columns": null,
            "grid_auto_flow": null,
            "grid_auto_rows": null,
            "grid_column": null,
            "grid_gap": null,
            "grid_row": null,
            "grid_template_areas": null,
            "grid_template_columns": null,
            "grid_template_rows": null,
            "height": null,
            "justify_content": null,
            "justify_items": null,
            "left": null,
            "margin": null,
            "max_height": null,
            "max_width": null,
            "min_height": null,
            "min_width": null,
            "object_fit": null,
            "object_position": null,
            "order": null,
            "overflow": null,
            "overflow_x": null,
            "overflow_y": null,
            "padding": null,
            "right": null,
            "top": null,
            "visibility": null,
            "width": null
          }
        },
        "bc12e997fa7d4ed2b9acb524658e5dfa": {
          "model_module": "@jupyter-widgets/controls",
          "model_name": "DescriptionStyleModel",
          "model_module_version": "1.5.0",
          "state": {
            "_model_module": "@jupyter-widgets/controls",
            "_model_module_version": "1.5.0",
            "_model_name": "DescriptionStyleModel",
            "_view_count": null,
            "_view_module": "@jupyter-widgets/base",
            "_view_module_version": "1.2.0",
            "_view_name": "StyleView",
            "description_width": ""
          }
        },
        "97115672cbf0459781d0372d346df795": {
          "model_module": "@jupyter-widgets/base",
          "model_name": "LayoutModel",
          "model_module_version": "1.2.0",
          "state": {
            "_model_module": "@jupyter-widgets/base",
            "_model_module_version": "1.2.0",
            "_model_name": "LayoutModel",
            "_view_count": null,
            "_view_module": "@jupyter-widgets/base",
            "_view_module_version": "1.2.0",
            "_view_name": "LayoutView",
            "align_content": null,
            "align_items": null,
            "align_self": null,
            "border": null,
            "bottom": null,
            "display": null,
            "flex": null,
            "flex_flow": null,
            "grid_area": null,
            "grid_auto_columns": null,
            "grid_auto_flow": null,
            "grid_auto_rows": null,
            "grid_column": null,
            "grid_gap": null,
            "grid_row": null,
            "grid_template_areas": null,
            "grid_template_columns": null,
            "grid_template_rows": null,
            "height": null,
            "justify_content": null,
            "justify_items": null,
            "left": null,
            "margin": null,
            "max_height": null,
            "max_width": null,
            "min_height": null,
            "min_width": null,
            "object_fit": null,
            "object_position": null,
            "order": null,
            "overflow": null,
            "overflow_x": null,
            "overflow_y": null,
            "padding": null,
            "right": null,
            "top": null,
            "visibility": null,
            "width": null
          }
        },
        "23ba52e4e2a6446baf2f502574b09831": {
          "model_module": "@jupyter-widgets/controls",
          "model_name": "ToggleButtonsStyleModel",
          "model_module_version": "1.5.0",
          "state": {
            "_model_module": "@jupyter-widgets/controls",
            "_model_module_version": "1.5.0",
            "_model_name": "ToggleButtonsStyleModel",
            "_view_count": null,
            "_view_module": "@jupyter-widgets/base",
            "_view_module_version": "1.2.0",
            "_view_name": "StyleView",
            "button_width": "",
            "description_width": "",
            "font_weight": ""
          }
        },
        "146da3ab866240b9a7c08f5b5fa6d2a8": {
          "model_module": "@jupyter-widgets/base",
          "model_name": "LayoutModel",
          "model_module_version": "1.2.0",
          "state": {
            "_model_module": "@jupyter-widgets/base",
            "_model_module_version": "1.2.0",
            "_model_name": "LayoutModel",
            "_view_count": null,
            "_view_module": "@jupyter-widgets/base",
            "_view_module_version": "1.2.0",
            "_view_name": "LayoutView",
            "align_content": null,
            "align_items": null,
            "align_self": null,
            "border": null,
            "bottom": null,
            "display": null,
            "flex": null,
            "flex_flow": null,
            "grid_area": null,
            "grid_auto_columns": null,
            "grid_auto_flow": null,
            "grid_auto_rows": null,
            "grid_column": null,
            "grid_gap": null,
            "grid_row": null,
            "grid_template_areas": null,
            "grid_template_columns": null,
            "grid_template_rows": null,
            "height": null,
            "justify_content": null,
            "justify_items": null,
            "left": null,
            "margin": null,
            "max_height": null,
            "max_width": null,
            "min_height": null,
            "min_width": null,
            "object_fit": null,
            "object_position": null,
            "order": null,
            "overflow": null,
            "overflow_x": null,
            "overflow_y": null,
            "padding": null,
            "right": null,
            "top": null,
            "visibility": null,
            "width": null
          }
        },
        "6f5c442056524381b8b079b416caee20": {
          "model_module": "@jupyter-widgets/controls",
          "model_name": "ToggleButtonsStyleModel",
          "model_module_version": "1.5.0",
          "state": {
            "_model_module": "@jupyter-widgets/controls",
            "_model_module_version": "1.5.0",
            "_model_name": "ToggleButtonsStyleModel",
            "_view_count": null,
            "_view_module": "@jupyter-widgets/base",
            "_view_module_version": "1.2.0",
            "_view_name": "StyleView",
            "button_width": "",
            "description_width": "",
            "font_weight": ""
          }
        },
        "ee195e401a814373b8ada03464b591b7": {
          "model_module": "@jupyter-widgets/base",
          "model_name": "LayoutModel",
          "model_module_version": "1.2.0",
          "state": {
            "_model_module": "@jupyter-widgets/base",
            "_model_module_version": "1.2.0",
            "_model_name": "LayoutModel",
            "_view_count": null,
            "_view_module": "@jupyter-widgets/base",
            "_view_module_version": "1.2.0",
            "_view_name": "LayoutView",
            "align_content": null,
            "align_items": null,
            "align_self": null,
            "border": null,
            "bottom": null,
            "display": null,
            "flex": null,
            "flex_flow": null,
            "grid_area": null,
            "grid_auto_columns": null,
            "grid_auto_flow": null,
            "grid_auto_rows": null,
            "grid_column": null,
            "grid_gap": null,
            "grid_row": null,
            "grid_template_areas": null,
            "grid_template_columns": null,
            "grid_template_rows": null,
            "height": null,
            "justify_content": null,
            "justify_items": null,
            "left": null,
            "margin": null,
            "max_height": null,
            "max_width": null,
            "min_height": null,
            "min_width": null,
            "object_fit": null,
            "object_position": null,
            "order": null,
            "overflow": null,
            "overflow_x": null,
            "overflow_y": null,
            "padding": null,
            "right": null,
            "top": null,
            "visibility": null,
            "width": "95%"
          }
        },
        "ee1b9959aab246a8a0297c6e6ccdb945": {
          "model_module": "@jupyter-widgets/controls",
          "model_name": "DescriptionStyleModel",
          "model_module_version": "1.5.0",
          "state": {
            "_model_module": "@jupyter-widgets/controls",
            "_model_module_version": "1.5.0",
            "_model_name": "DescriptionStyleModel",
            "_view_count": null,
            "_view_module": "@jupyter-widgets/base",
            "_view_module_version": "1.2.0",
            "_view_name": "StyleView",
            "description_width": ""
          }
        },
        "55fc5f38c72747ef9274eeff13173e29": {
          "model_module": "@jupyter-widgets/base",
          "model_name": "LayoutModel",
          "model_module_version": "1.2.0",
          "state": {
            "_model_module": "@jupyter-widgets/base",
            "_model_module_version": "1.2.0",
            "_model_name": "LayoutModel",
            "_view_count": null,
            "_view_module": "@jupyter-widgets/base",
            "_view_module_version": "1.2.0",
            "_view_name": "LayoutView",
            "align_content": null,
            "align_items": null,
            "align_self": null,
            "border": null,
            "bottom": null,
            "display": null,
            "flex": null,
            "flex_flow": null,
            "grid_area": null,
            "grid_auto_columns": null,
            "grid_auto_flow": null,
            "grid_auto_rows": null,
            "grid_column": null,
            "grid_gap": null,
            "grid_row": null,
            "grid_template_areas": null,
            "grid_template_columns": null,
            "grid_template_rows": null,
            "height": null,
            "justify_content": null,
            "justify_items": null,
            "left": null,
            "margin": null,
            "max_height": null,
            "max_width": null,
            "min_height": null,
            "min_width": null,
            "object_fit": null,
            "object_position": null,
            "order": null,
            "overflow": null,
            "overflow_x": null,
            "overflow_y": null,
            "padding": null,
            "right": null,
            "top": null,
            "visibility": null,
            "width": null
          }
        },
        "e6ef3d46f8434ee38e9797bc9a83e329": {
          "model_module": "@jupyter-widgets/controls",
          "model_name": "ButtonStyleModel",
          "model_module_version": "1.5.0",
          "state": {
            "_model_module": "@jupyter-widgets/controls",
            "_model_module_version": "1.5.0",
            "_model_name": "ButtonStyleModel",
            "_view_count": null,
            "_view_module": "@jupyter-widgets/base",
            "_view_module_version": "1.2.0",
            "_view_name": "StyleView",
            "button_color": null,
            "font_weight": ""
          }
        },
        "f89c2ab843f745f4acbadb515df880dd": {
          "model_module": "@jupyter-widgets/base",
          "model_name": "LayoutModel",
          "model_module_version": "1.2.0",
          "state": {
            "_model_module": "@jupyter-widgets/base",
            "_model_module_version": "1.2.0",
            "_model_name": "LayoutModel",
            "_view_count": null,
            "_view_module": "@jupyter-widgets/base",
            "_view_module_version": "1.2.0",
            "_view_name": "LayoutView",
            "align_content": null,
            "align_items": null,
            "align_self": null,
            "border": null,
            "bottom": null,
            "display": null,
            "flex": null,
            "flex_flow": null,
            "grid_area": null,
            "grid_auto_columns": null,
            "grid_auto_flow": null,
            "grid_auto_rows": null,
            "grid_column": null,
            "grid_gap": null,
            "grid_row": null,
            "grid_template_areas": null,
            "grid_template_columns": null,
            "grid_template_rows": null,
            "height": null,
            "justify_content": null,
            "justify_items": null,
            "left": null,
            "margin": null,
            "max_height": null,
            "max_width": null,
            "min_height": null,
            "min_width": null,
            "object_fit": null,
            "object_position": null,
            "order": null,
            "overflow": null,
            "overflow_x": null,
            "overflow_y": null,
            "padding": null,
            "right": null,
            "top": null,
            "visibility": null,
            "width": null
          }
        }
      }
    }
  },
  "cells": [
    {
      "cell_type": "markdown",
      "source": [
        "# 라이브러리 설치"
      ],
      "metadata": {
        "id": "sdt31l8m9FGK"
      }
    },
    {
      "cell_type": "code",
      "source": [
        "# 라이브러리 설치\n",
        "!pip install -q chromadb sentence-transformers openai ipywidgets\n",
        "!jupyter nbextension enable --py widgetsnbextension"
      ],
      "metadata": {
        "colab": {
          "base_uri": "https://localhost:8080/"
        },
        "id": "jx0tC1_b8oDa",
        "outputId": "1a9ec2a7-b941-4051-b3ea-5f831ee59aad"
      },
      "execution_count": 1,
      "outputs": [
        {
          "output_type": "stream",
          "name": "stdout",
          "text": [
            "Enabling notebook extension jupyter-js-widgets/extension...\n",
            "Paths used for configuration of notebook: \n",
            "    \t/root/.jupyter/nbconfig/notebook.json\n",
            "Paths used for configuration of notebook: \n",
            "    \t\n",
            "      - Validating: \u001b[32mOK\u001b[0m\n",
            "Paths used for configuration of notebook: \n",
            "    \t/root/.jupyter/nbconfig/notebook.json\n"
          ]
        }
      ]
    },
    {
      "cell_type": "markdown",
      "source": [
        "# API Key 환경 설정"
      ],
      "metadata": {
        "id": "B6ed6KuM9a0F"
      }
    },
    {
      "cell_type": "code",
      "source": [
        "# Hugging Face 및 Google API 인증\n",
        "from google.colab import userdata\n",
        "GOOGLE_API_KEY = userdata.get('GOOGLE_API_KEY') # Google Custom Search API 키\n",
        "GOOGLE_CSE_ID = userdata.get('GOOGLE_CSE_ID') # Programmable Search Engine ID\n",
        "OPENAI_API_KEY = userdata.get('OPENAI_API_KEY') # OpenAI API Key\n",
        "client_id = \"SWe77FM8c_EjAm5Y93h5\" # Naver API Key\n",
        "client_secret = \"mAz_OvLf7T\" # Naver Secret Key"
      ],
      "metadata": {
        "id": "eMmaVqIk9aFh"
      },
      "execution_count": 2,
      "outputs": []
    },
    {
      "cell_type": "markdown",
      "source": [
        "# Base Knowledge 수집용 네이버쇼핑 영양제 상품 검색 코드"
      ],
      "metadata": {
        "id": "_MP-nZVT9IJs"
      }
    },
    {
      "cell_type": "code",
      "execution_count": 3,
      "metadata": {
        "id": "zkuqQr7qfAvb"
      },
      "outputs": [],
      "source": [
        "# 네이버쇼핑 검색 로직\n",
        "import requests\n",
        "from urllib.parse import quote\n",
        "\n",
        "def naver_shop_search(query, display=100):\n",
        "    encoded_query = quote(query)\n",
        "    url = f\"https://openapi.naver.com/v1/search/shop.json?query={encoded_query}&display={display}&start=1&sort=sim&exclude=used:cbshop:rental\"\n",
        "\n",
        "    headers = {\n",
        "        \"X-Naver-Client-Id\": client_id,\n",
        "        \"X-Naver-Client-Secret\": client_secret\n",
        "    }\n",
        "\n",
        "    response = requests.get(url, headers=headers)\n",
        "\n",
        "    if response.status_code == 200:\n",
        "        return response.json()\n",
        "    else:\n",
        "        return {\"error\": response.status_code}\n",
        "\n",
        "result = naver_shop_search(\"영양제\", 100)"
      ]
    },
    {
      "cell_type": "markdown",
      "source": [
        "# 추가 정보 수집을 위한 구글 검색 코드"
      ],
      "metadata": {
        "id": "QkMiqKHE9k6E"
      }
    },
    {
      "cell_type": "code",
      "source": [
        "# Google Programmable Search Engine 설정\n",
        "from googleapiclient.discovery import build\n",
        "\n",
        "def google_search(query, num=10):\n",
        "    service = build(\"customsearch\", \"v1\", developerKey=GOOGLE_API_KEY)\n",
        "    res = service.cse().list(q=query, cx=GOOGLE_CSE_ID, num=num).execute()\n",
        "    return [item[\"snippet\"] for item in res[\"items\"]]\n"
      ],
      "metadata": {
        "id": "tQqNfgec9kFO"
      },
      "execution_count": 4,
      "outputs": []
    },
    {
      "cell_type": "markdown",
      "source": [
        "# Base Knowledge를 Vector DB에 저장하는 코드"
      ],
      "metadata": {
        "id": "0nDp44_D9K8M"
      }
    },
    {
      "cell_type": "code",
      "source": [
        "# 네이버쇼핑 검색 결과 -> Vector DB (Chroma) 저장\n",
        "import chromadb\n",
        "from chromadb.utils import embedding_functions\n",
        "from sentence_transformers import SentenceTransformer\n",
        "\n",
        "# 데이터 전처리\n",
        "def preprocess_items(items):\n",
        "    processed = []\n",
        "    for item in items:\n",
        "        data = {\n",
        "            \"id\": item['productId'],\n",
        "            \"text\": f\"{item['title']} {item['brand']} {item['maker']} {item['category3']}\",  # 임베딩용 텍스트\n",
        "            \"metadata\": {\n",
        "                \"price\": int(item['lprice']),\n",
        "                \"brand\": item['brand'],\n",
        "                \"category\": f\"{item['category1']}>{item['category2']}>{item['category3']}\",\n",
        "                \"link\": item['link']\n",
        "            }\n",
        "        }\n",
        "        processed.append(data)\n",
        "    return processed\n",
        "\n",
        "# Chroma DB 초기화\n",
        "client = chromadb.PersistentClient(path=\"./naver_shopping_db\")\n",
        "embedding_model = embedding_functions.SentenceTransformerEmbeddingFunction(\n",
        "    model_name=\"sentence-transformers/paraphrase-multilingual-mpnet-base-v2\"\n",
        ")\n",
        "# 기존 컬렉션이 있으면 삭제 후 재생성\n",
        "try:\n",
        "    client.delete_collection(\"products\")\n",
        "except:\n",
        "    pass\n",
        "collection = client.create_collection(\n",
        "    name=\"products\",\n",
        "    embedding_function=embedding_model,\n",
        "    metadata={\"hnsw:space\": \"cosine\"}\n",
        ")\n",
        "\n",
        "# 데이터 저장\n",
        "if 'items' in result:\n",
        "    processed_data = preprocess_items(result['items'])\n",
        "    collection.add(\n",
        "        ids=[item['id'] for item in processed_data],\n",
        "        documents=[item['text'] for item in processed_data],\n",
        "        metadatas=[item['metadata'] for item in processed_data]\n",
        "    )\n",
        "    print(\"성공적으로\", len(processed_data), \"개 상품 저장됨\")\n",
        "else:\n",
        "    print(\"Error:\", result.get('error', '데이터 없음'))\n"
      ],
      "metadata": {
        "id": "04HhIARLgZcr",
        "colab": {
          "base_uri": "https://localhost:8080/"
        },
        "outputId": "1e3d1cd4-b22e-4f0c-9b4f-510a3fd006d2"
      },
      "execution_count": 5,
      "outputs": [
        {
          "output_type": "stream",
          "name": "stdout",
          "text": [
            "성공적으로 100 개 상품 저장됨\n"
          ]
        }
      ]
    },
    {
      "cell_type": "markdown",
      "source": [
        "# Vector DB 검색 코드"
      ],
      "metadata": {
        "id": "3iaTkTCqVcDE"
      }
    },
    {
      "cell_type": "code",
      "source": [
        "def vectordb_search(query, n_results=10):\n",
        "    results = collection.query(\n",
        "        query_texts=[query],\n",
        "        n_results=n_results\n",
        "    )\n",
        "    output = []\n",
        "    for idx, (doc, meta) in enumerate(zip(results['documents'][0], results['metadatas'][0]), 1):\n",
        "        output.append({\n",
        "            \"제품정보\": doc,\n",
        "            \"메타데이터\": meta\n",
        "        })\n",
        "    return output\n",
        "# vectordb_search(\"루테인\")"
      ],
      "metadata": {
        "id": "NPhiJj3qVbdY"
      },
      "execution_count": 6,
      "outputs": []
    },
    {
      "cell_type": "markdown",
      "source": [
        "# 검색 도구 함수 정의 (Function Calling)"
      ],
      "metadata": {
        "id": "G7eGjTt_AQg-"
      }
    },
    {
      "cell_type": "code",
      "source": [
        "recommend_nutrient = {\n",
        "    \"name\": \"recommend_nutrient\",\n",
        "    \"description\": \"첫 번째로 호출해야 하는 필수 함수입니다. 사용자 증상을 분석해 영양소를 추천하거나 제거할 것을 결정합니다.\",\n",
        "    \"parameters\": {\n",
        "        \"type\": \"object\",\n",
        "        \"properties\": {\n",
        "            \"nutrient\": {\"type\": \"string\", \"description\": \"추천하거나 제거가 필요한 영양소 성분\"},\n",
        "            \"action\": {\"type\": \"string\", \"description\": \"'추천' 또는 '제거' 중 하나\", \"enum\": [\"추천\", \"제거\"]},\n",
        "            \"query\": {\"type\": \"string\", \"description\": \"사용자 증상 쿼리\"\n",
        "            }\n",
        "        },\n",
        "        \"required\": [\"nutrient\", \"action\", \"query\"]\n",
        "    }\n",
        "}\n",
        "\n",
        "vectordb_search_schema = {\n",
        "  \"name\": \"vectordb_search\",\n",
        "  \"description\": \"추천 영양소로 Vector DB에서 제품 검색\",\n",
        "  \"parameters\": {\n",
        "    \"type\": \"object\",\n",
        "    \"properties\": {\n",
        "      \"query\": {\"type\": \"string\"},\n",
        "      \"max_results\": {\"type\": \"integer\", \"default\": 10}\n",
        "    },\n",
        "    \"required\": [\"query\"]\n",
        "  }\n",
        "}\n",
        "\n",
        "google_search_function_schema = {\n",
        "  \"name\": \"google_search\",\n",
        "  \"description\": \"검색된 제품을 Google 검색해서 상세 정보 조회\",\n",
        "  \"parameters\": {\n",
        "    \"type\": \"object\",\n",
        "    \"properties\": {\n",
        "      \"query\": {\"type\": \"string\"},\n",
        "      \"num_results\": {\"type\": \"integer\", \"default\": 10}\n",
        "    },\n",
        "    \"required\": [\"query\"]\n",
        "  }\n",
        "}\n"
      ],
      "metadata": {
        "id": "Gr8ZOqz-_9bs"
      },
      "execution_count": 13,
      "outputs": []
    },
    {
      "cell_type": "markdown",
      "source": [
        "# LLM 동작 코드"
      ],
      "metadata": {
        "id": "WBHbwmxxCTHy"
      }
    },
    {
      "cell_type": "code",
      "source": [
        "from openai import OpenAI\n",
        "import json\n",
        "import re\n",
        "\n",
        "client = OpenAI(api_key=userdata.get('OPENAI_API_KEY'))\n",
        "\n",
        "def get_nutrient_action(symptom, gender, age, pregnancy, mode):\n",
        "    prompt = f\"\"\"\n",
        "    사용자 정보:\n",
        "    - 성별: {gender}\n",
        "    - 나이: {age}\n",
        "    - 임신 여부: {pregnancy}\n",
        "    - 선택 기능: {mode}\n",
        "\n",
        "    증상: {symptom}\n",
        "\n",
        "증상을 분석해 사용자에게 가장 적절한 영양소를 1가지 추천하거나, 과다 복용 시 제거가 필요한 영양소 하나를 찾으세요.\n",
        "최종 결과를 표로 정리하세요. 제조사, 제품명, 영양소 스펙, 구매 링크 입니다.\n",
        "    \"\"\"\n",
        "    messages = [\n",
        "        {\n",
        "            \"role\": \"system\",\n",
        "            \"content\": \"너는 건강 기반의 영양제 조언 전문가야. 증상을 분석해 사용자에게 가장 적절한 영양소를 1가지 추천하거나, 과다 복용 시 제거가 필요한 영양소 하나를 찾으세요.\"\n",
        "        },\n",
        "        {\"role\": \"user\", \"content\": prompt}\n",
        "    ]\n",
        "\n",
        "    # Step 1\n",
        "    print(\"현재 messages:\", messages)\n",
        "    res = client.chat.completions.create(\n",
        "        model=\"gpt-3.5-turbo\",\n",
        "        messages=messages,\n",
        "        functions= [recommend_nutrient],\n",
        "        function_call={\"name\": \"recommend_nutrient\"},\n",
        "        temperature=0.5\n",
        "        )\n",
        "    # print(\"LLM 전체 응답:\", res)\n",
        "    func_name = res.choices[0].message.function_call.name\n",
        "    print(\"호출된 함수:\", func_name)\n",
        "    print(\"함수 인자(raw):\", res.choices[0].message.function_call.arguments)\n",
        "\n",
        "    args = json.loads(res.choices[0].message.function_call.arguments)\n",
        "    nutrient = args[\"nutrient\"]\n",
        "    action = args[\"action\"]\n",
        "    print(f\"추천 영양소: {nutrient} ({action})\")\n",
        "\n",
        "    # Step 2\n",
        "    search_results = vectordb_search(args[\"query\"])  # 실제 검색 실행\n",
        "    messages.append({\n",
        "      \"role\": \"assistant\",\n",
        "      \"content\": None,\n",
        "      \"function_call\": {\n",
        "          \"name\": func_name,\n",
        "          \"arguments\": res.choices[0].message.function_call.arguments\n",
        "        }\n",
        "    })\n",
        "\n",
        "    messages.append({\n",
        "        \"role\": \"function\",\n",
        "        \"name\": func_name,\n",
        "        \"content\": f\"VectorDB 검색 결과: {json.dumps(search_results)}\"\n",
        "    })\n",
        "\n",
        "    messages.append({\n",
        "        \"role\": \"user\",\n",
        "        \"content\": f\"Vector DB에서 검색한 추천하는 영양소를 포함하는 영양제 제품 중 제일 적합한 영양제 하나를 찾으세요\"\n",
        "    })\n",
        "\n",
        "    res = client.chat.completions.create(\n",
        "        model=\"gpt-3.5-turbo\",\n",
        "        messages=messages,\n",
        "        functions= [vectordb_search_schema],\n",
        "        function_call={\"name\": \"vectordb_search\"},\n",
        "        temperature=0.5\n",
        "        )\n",
        "\n",
        "    func_name = res.choices[0].message.function_call.name\n",
        "    print(\"호출된 함수:\", func_name)\n",
        "    print(\"함수 인자(raw):\", res.choices[0].message.function_call.arguments)\n",
        "    print(\"메세지: \",res.choices[0].message)\n",
        "\n",
        "    # Step 3\n",
        "    args = json.loads(res.choices[0].message.function_call.arguments)\n",
        "\n",
        "    search_results = google_search(args[\"query\"])  # 실제 검색 실행\n",
        "    messages.append({\n",
        "      \"role\": \"assistant\",\n",
        "      \"content\": None,\n",
        "      \"function_call\": {\n",
        "          \"name\": func_name,\n",
        "          \"arguments\": res.choices[0].message.function_call.arguments\n",
        "        }\n",
        "    })\n",
        "\n",
        "    messages.append({\n",
        "        \"role\": \"function\",\n",
        "        \"name\": func_name,\n",
        "        \"content\": f\"Google 검색 결과: {json.dumps(search_results)}\"\n",
        "    })\n",
        "    messages.append({\n",
        "        \"role\": \"user\",\n",
        "        \"content\": f\"Google에서 검색한 영양제의 상세 정보를 토대로 자세한 정보를 수집하세요.\",\n",
        "\n",
        "    })\n",
        "    res = client.chat.completions.create(\n",
        "        model=\"gpt-3.5-turbo\",\n",
        "        messages=messages,\n",
        "        functions=[google_search_function_schema],\n",
        "        function_call={\"name\": \"google_search\"},\n",
        "        temperature=0.5\n",
        "    )\n",
        "    func_name = res.choices[0].message.function_call.name\n",
        "    print(\"호출된 함수:\", func_name)\n",
        "    print(\"함수 인자(raw):\", res.choices[0].message.function_call.arguments)\n",
        "    print(\"메세지: \",res.choices[0].message)\n",
        "\n",
        "    # 최종 응답 생성 부분 수정\n",
        "    final_response = client.chat.completions.create(\n",
        "        model=\"gpt-3.5-turbo\",\n",
        "        messages=messages + [{\n",
        "            \"role\": \"user\",\n",
        "            \"content\": f\"\"\"\n",
        "            지금까지의 검색 결과를 종합해서 다음 형식의 표로 정확하게 정리해주세요.\n",
        "            | 제조사 | 제품명 | 주요 성분 | 함량 | 링크 |\n",
        "            |--------|--------|-----------|------|------|\n",
        "            필수 항목: 제조사, 제품명, 주요 영양 성분, 함량, 구매 링크\n",
        "\n",
        "            \"\"\"\n",
        "        }]\n",
        "    )\n",
        "\n",
        "\n",
        "    print(\"\\n최종 결과:\")\n",
        "    print(final_response.choices[0].message.content)\n",
        "\n"
      ],
      "metadata": {
        "id": "nHAUUZQKCQ8r"
      },
      "execution_count": 17,
      "outputs": []
    },
    {
      "cell_type": "markdown",
      "source": [
        "# User Interface 정의 코드"
      ],
      "metadata": {
        "id": "hC2GEN_FC_fp"
      }
    },
    {
      "cell_type": "code",
      "source": [
        "import ipywidgets as widgets\n",
        "from IPython.display import display, clear_output\n",
        "\n",
        "# --- 위젯 UI 구성 ---\n",
        "gender = widgets.ToggleButtons(options=[\"남성\", \"여성\"], description='성별:')\n",
        "age = widgets.IntText(value=30, description='만 나이:')\n",
        "pregnancy = widgets.ToggleButtons(options=[\"해당 없음\", \"임신 중\", \"임신 가능성\"], description='임신 여부:')\n",
        "mode = widgets.ToggleButtons(options=[\"식습관 분석을 통한 영양제 추천\", \"불편 현상에 따른 영양제 추천\", \"영양제 과다 복용 확인\"], description='메뉴:')\n",
        "\n",
        "# ✅ 입력창 너비 확장\n",
        "symptom_input = widgets.Text(\n",
        "    placeholder='증상 또는 복용 제품 입력',\n",
        "    description='입력:',\n",
        "    layout=widgets.Layout(width='95%')\n",
        ")\n",
        "\n",
        "submit_button = widgets.Button(description=\"제출\", button_style=\"success\")\n",
        "output_box = widgets.Output()\n",
        "\n",
        "# --- 실행 로직 ---\n",
        "def on_submit_clicked(b):\n",
        "    with output_box:\n",
        "        clear_output()\n",
        "        info = {\n",
        "            \"성별\": gender.value,\n",
        "            \"나이\": age.value,\n",
        "            \"임신 여부\": pregnancy.value,\n",
        "            \"선택 기능\": mode.value\n",
        "        }\n",
        "        symptom = symptom_input.value.strip()\n",
        "\n",
        "        print(f\"사용자 정보: {info}\")\n",
        "        print(f\"선택한 기능: {mode.value}\")\n",
        "        print()\n",
        "\n",
        "        if not symptom:\n",
        "            print(\"⚠️ 증상이나 복용 제품을 입력해주세요.\")\n",
        "            return\n",
        "\n",
        "        get_nutrient_action(symptom, gender.value, age.value, pregnancy.value, mode.value)\n",
        "\n",
        "        print(\"\\n ※ 이 답변은 빅데이터 기반으로 제공되며, 정확한 복약은 전문가 상담이 필요합니다.\")"
      ],
      "metadata": {
        "id": "99fUniPODCcI"
      },
      "execution_count": 14,
      "outputs": []
    },
    {
      "cell_type": "markdown",
      "source": [
        "# User Interface 실행"
      ],
      "metadata": {
        "id": "NZ8lMnlmDH1E"
      }
    },
    {
      "cell_type": "code",
      "source": [
        "# --- UI 연결 및 실행 ---\n",
        "submit_button.on_click(on_submit_clicked)\n",
        "display(widgets.VBox([\n",
        "    gender, age, pregnancy, mode, symptom_input, submit_button, output_box\n",
        "]))\n"
      ],
      "metadata": {
        "colab": {
          "base_uri": "https://localhost:8080/",
          "height": 727,
          "referenced_widgets": [
            "49527aff5a884a0f8d132d69ebbc3feb",
            "c33f80e0b00642018cffd751c3dab90b",
            "dfdcb631ba11495d94f55c4b08c61850",
            "56db36bc47c0419781128d2b59acf43b",
            "821604d1e8cd4bb080632ee8e9e00b31",
            "65ff501e348042d9a10b5ce2f2b4fc1b",
            "3baf4290637b40b8a7f6ef76bc94d7d1",
            "3895d3414bdf4815950bbd531f39f632",
            "9b47928ad0e848dfb308d66f4fdf3a35",
            "cf466a9187fa4d9d9cab6c3878bc3e67",
            "888fdce1b2524b5196339722fd2dbc85",
            "7fee6d3e5b774cc4a159cd7debef9189",
            "bc12e997fa7d4ed2b9acb524658e5dfa",
            "97115672cbf0459781d0372d346df795",
            "23ba52e4e2a6446baf2f502574b09831",
            "146da3ab866240b9a7c08f5b5fa6d2a8",
            "6f5c442056524381b8b079b416caee20",
            "ee195e401a814373b8ada03464b591b7",
            "ee1b9959aab246a8a0297c6e6ccdb945",
            "55fc5f38c72747ef9274eeff13173e29",
            "e6ef3d46f8434ee38e9797bc9a83e329",
            "f89c2ab843f745f4acbadb515df880dd"
          ]
        },
        "id": "xebHcn8rDKfP",
        "outputId": "41a642df-0ebc-4c28-b82b-d8d667e7a1ce"
      },
      "execution_count": 15,
      "outputs": [
        {
          "output_type": "display_data",
          "data": {
            "text/plain": [
              "VBox(children=(ToggleButtons(description='성별:', options=('남성', '여성'), value='남성'), IntText(value=30, descripti…"
            ],
            "application/vnd.jupyter.widget-view+json": {
              "version_major": 2,
              "version_minor": 0,
              "model_id": "49527aff5a884a0f8d132d69ebbc3feb"
            }
          },
          "metadata": {}
        }
      ]
    }
  ]
}
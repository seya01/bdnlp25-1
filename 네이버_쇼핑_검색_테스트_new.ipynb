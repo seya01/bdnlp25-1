{
  "nbformat": 4,
  "nbformat_minor": 0,
  "metadata": {
    "colab": {
      "provenance": []
    },
    "kernelspec": {
      "name": "python3",
      "display_name": "Python 3"
    },
    "language_info": {
      "name": "python"
    },
    "widgets": {
      "application/vnd.jupyter.widget-state+json": {
        "65d5ee4c4d3f46e58a1fe5809df4296d": {
          "model_module": "@jupyter-widgets/controls",
          "model_name": "VBoxModel",
          "model_module_version": "1.5.0",
          "state": {
            "_dom_classes": [],
            "_model_module": "@jupyter-widgets/controls",
            "_model_module_version": "1.5.0",
            "_model_name": "VBoxModel",
            "_view_count": null,
            "_view_module": "@jupyter-widgets/controls",
            "_view_module_version": "1.5.0",
            "_view_name": "VBoxView",
            "box_style": "",
            "children": [
              "IPY_MODEL_7a4a87e71e5d4a8eb72b2d9f0c6326e1",
              "IPY_MODEL_345cd2a08e5d48e0852411eccb241f82",
              "IPY_MODEL_3e0ac9ecf4bb481f9b60996accca4ff3",
              "IPY_MODEL_83822fa2da294ca3b51ecf9854a55dae",
              "IPY_MODEL_77eb34a008de41c7839b825623957024",
              "IPY_MODEL_e9c1f73f3fc042718f496a5645540e7c",
              "IPY_MODEL_6ddbbe07f6e54ca48ca3cf2a0e3f9acb"
            ],
            "layout": "IPY_MODEL_c79c82ebc50d448fa18cb89a53ab8eec"
          }
        },
        "7a4a87e71e5d4a8eb72b2d9f0c6326e1": {
          "model_module": "@jupyter-widgets/controls",
          "model_name": "ToggleButtonsModel",
          "model_module_version": "1.5.0",
          "state": {
            "_dom_classes": [],
            "_model_module": "@jupyter-widgets/controls",
            "_model_module_version": "1.5.0",
            "_model_name": "ToggleButtonsModel",
            "_options_labels": [
              "남성",
              "여성"
            ],
            "_view_count": null,
            "_view_module": "@jupyter-widgets/controls",
            "_view_module_version": "1.5.0",
            "_view_name": "ToggleButtonsView",
            "button_style": "",
            "description": "성별:",
            "description_tooltip": null,
            "disabled": false,
            "icons": [],
            "index": 0,
            "layout": "IPY_MODEL_460d11e122ca49a8ac68ac5df6ea30d0",
            "style": "IPY_MODEL_19a81f9135a04677b5054e3a93b7a9db",
            "tooltips": []
          }
        },
        "345cd2a08e5d48e0852411eccb241f82": {
          "model_module": "@jupyter-widgets/controls",
          "model_name": "IntTextModel",
          "model_module_version": "1.5.0",
          "state": {
            "_dom_classes": [],
            "_model_module": "@jupyter-widgets/controls",
            "_model_module_version": "1.5.0",
            "_model_name": "IntTextModel",
            "_view_count": null,
            "_view_module": "@jupyter-widgets/controls",
            "_view_module_version": "1.5.0",
            "_view_name": "IntTextView",
            "continuous_update": false,
            "description": "만 나이:",
            "description_tooltip": null,
            "disabled": false,
            "layout": "IPY_MODEL_c3d216a74b3740af9f6681fa56bb4d56",
            "step": 1,
            "style": "IPY_MODEL_71e136ad5e704ce1a4ef5bae8d330a67",
            "value": 30
          }
        },
        "3e0ac9ecf4bb481f9b60996accca4ff3": {
          "model_module": "@jupyter-widgets/controls",
          "model_name": "ToggleButtonsModel",
          "model_module_version": "1.5.0",
          "state": {
            "_dom_classes": [],
            "_model_module": "@jupyter-widgets/controls",
            "_model_module_version": "1.5.0",
            "_model_name": "ToggleButtonsModel",
            "_options_labels": [
              "해당 없음",
              "임신 중",
              "임신 가능성"
            ],
            "_view_count": null,
            "_view_module": "@jupyter-widgets/controls",
            "_view_module_version": "1.5.0",
            "_view_name": "ToggleButtonsView",
            "button_style": "",
            "description": "임신 여부:",
            "description_tooltip": null,
            "disabled": false,
            "icons": [],
            "index": 0,
            "layout": "IPY_MODEL_02cbc638465c42caa7fd715c85c0dcfe",
            "style": "IPY_MODEL_18b5ff78afcd428ebe530d5908b8626e",
            "tooltips": []
          }
        },
        "83822fa2da294ca3b51ecf9854a55dae": {
          "model_module": "@jupyter-widgets/controls",
          "model_name": "ToggleButtonsModel",
          "model_module_version": "1.5.0",
          "state": {
            "_dom_classes": [],
            "_model_module": "@jupyter-widgets/controls",
            "_model_module_version": "1.5.0",
            "_model_name": "ToggleButtonsModel",
            "_options_labels": [
              "식습관 분석을 통한 영양제 추천",
              "불편 현상에 따른 영양제 추천",
              "영양제 과다 복용 확인"
            ],
            "_view_count": null,
            "_view_module": "@jupyter-widgets/controls",
            "_view_module_version": "1.5.0",
            "_view_name": "ToggleButtonsView",
            "button_style": "",
            "description": "메뉴:",
            "description_tooltip": null,
            "disabled": false,
            "icons": [],
            "index": 1,
            "layout": "IPY_MODEL_c5d72c726fc444a3bf7bcedfa3fcb945",
            "style": "IPY_MODEL_350cd6fa84294079aec31c74fb5e4459",
            "tooltips": []
          }
        },
        "77eb34a008de41c7839b825623957024": {
          "model_module": "@jupyter-widgets/controls",
          "model_name": "TextModel",
          "model_module_version": "1.5.0",
          "state": {
            "_dom_classes": [],
            "_model_module": "@jupyter-widgets/controls",
            "_model_module_version": "1.5.0",
            "_model_name": "TextModel",
            "_view_count": null,
            "_view_module": "@jupyter-widgets/controls",
            "_view_module_version": "1.5.0",
            "_view_name": "TextView",
            "continuous_update": true,
            "description": "입력:",
            "description_tooltip": null,
            "disabled": false,
            "layout": "IPY_MODEL_0c413891e0c14cb1a914c9afcba3dd94",
            "placeholder": "증상 또는 복용 제품 입력",
            "style": "IPY_MODEL_e764d86d2b054c6d943fb4c2efbdc86a",
            "value": "잠을 자도 피곤해"
          }
        },
        "e9c1f73f3fc042718f496a5645540e7c": {
          "model_module": "@jupyter-widgets/controls",
          "model_name": "ButtonModel",
          "model_module_version": "1.5.0",
          "state": {
            "_dom_classes": [],
            "_model_module": "@jupyter-widgets/controls",
            "_model_module_version": "1.5.0",
            "_model_name": "ButtonModel",
            "_view_count": null,
            "_view_module": "@jupyter-widgets/controls",
            "_view_module_version": "1.5.0",
            "_view_name": "ButtonView",
            "button_style": "success",
            "description": "제출",
            "disabled": false,
            "icon": "",
            "layout": "IPY_MODEL_cb1f8afdef224cb884cb43b5afa15970",
            "style": "IPY_MODEL_92e614444a5740d4b65ac2aae3c45646",
            "tooltip": ""
          }
        },
        "6ddbbe07f6e54ca48ca3cf2a0e3f9acb": {
          "model_module": "@jupyter-widgets/output",
          "model_name": "OutputModel",
          "model_module_version": "1.0.0",
          "state": {
            "_dom_classes": [],
            "_model_module": "@jupyter-widgets/output",
            "_model_module_version": "1.0.0",
            "_model_name": "OutputModel",
            "_view_count": null,
            "_view_module": "@jupyter-widgets/output",
            "_view_module_version": "1.0.0",
            "_view_name": "OutputView",
            "layout": "IPY_MODEL_5cc7b82940dd4dc18ed9d14caf5fd6a6",
            "msg_id": "",
            "outputs": [
              {
                "output_type": "stream",
                "name": "stdout",
                "text": [
                  "사용자 정보: {'성별': '남성', '나이': 30, '임신 여부': '해당 없음', '선택 기능': '불편 현상에 따른 영양제 추천'}\n",
                  "선택한 기능: 불편 현상에 따른 영양제 추천\n",
                  "\n",
                  "현재 messages: [{'role': 'system', 'content': '너는 건강 기반의 영양제 조언 전문가야. 전문적으로 답변해줘.'}, {'role': 'user', 'content': '\\n    사용자 정보:\\n    - 성별: 남성\\n    - 나이: 30\\n    - 임신 여부: 해당 없음\\n    - 원하는 것: 불편 현상에 따른 영양제 추천\\n    - 상태: 잠을 자도 피곤해\\n\\n    \\n현재 사용자가 불편해 하는 상태를 해결할 수 있는 가장 적절한 영양소를 1가지 추천하세요.\\n'}]\n"
                ]
              },
              {
                "output_type": "stream",
                "name": "stdout",
                "text": [
                  "호출된 함수: recommend_nutrient\n",
                  "함수 인자(raw): {\"nutrient\":\"피로 회복에 좋은 영양소\",\"query\":\"잠을 자도 피곤해\"}\n",
                  "추천 영양소: 피로 회복에 좋은 영양소\n"
                ]
              },
              {
                "output_type": "stream",
                "name": "stdout",
                "text": [
                  "호출된 함수: vectordb_search\n",
                  "함수 인자(raw): {\"query\":\"피로 회복 비타민제\",\"max_results\":1}\n",
                  "메세지:  ChatCompletionMessage(content=None, refusal=None, role='assistant', annotations=[], audio=None, function_call=FunctionCall(arguments='{\"query\":\"피로 회복 비타민제\",\"max_results\":1}', name='vectordb_search'), tool_calls=None)\n"
                ]
              },
              {
                "output_type": "stream",
                "name": "stdout",
                "text": [
                  "호출된 함수: google_search\n",
                  "함수 인자(raw): {\"query\":\"May 12, 2023 벡터 B\"}\n",
                  "메세지:  ChatCompletionMessage(content=None, refusal=None, role='assistant', annotations=[], audio=None, function_call=FunctionCall(arguments='{\"query\":\"May 12, 2023 벡터 B\"}', name='google_search'), tool_calls=None)\n"
                ]
              },
              {
                "output_type": "stream",
                "name": "stdout",
                "text": [
                  "\n",
                  "최종 결과:\n",
                  "죄송합니다. 현재 수집된 정보에서는 해당 요건을 충족시키기에는 정보가 충분하지 않습니다. 다른 요청이 있으면 도와드리겠습니다.\n",
                  "\n",
                  " ※ 이 답변은 빅데이터 기반으로 제공되며, 정확한 복약은 전문가 상담이 필요합니다.\n"
                ]
              }
            ]
          }
        },
        "c79c82ebc50d448fa18cb89a53ab8eec": {
          "model_module": "@jupyter-widgets/base",
          "model_name": "LayoutModel",
          "model_module_version": "1.2.0",
          "state": {
            "_model_module": "@jupyter-widgets/base",
            "_model_module_version": "1.2.0",
            "_model_name": "LayoutModel",
            "_view_count": null,
            "_view_module": "@jupyter-widgets/base",
            "_view_module_version": "1.2.0",
            "_view_name": "LayoutView",
            "align_content": null,
            "align_items": null,
            "align_self": null,
            "border": null,
            "bottom": null,
            "display": null,
            "flex": null,
            "flex_flow": null,
            "grid_area": null,
            "grid_auto_columns": null,
            "grid_auto_flow": null,
            "grid_auto_rows": null,
            "grid_column": null,
            "grid_gap": null,
            "grid_row": null,
            "grid_template_areas": null,
            "grid_template_columns": null,
            "grid_template_rows": null,
            "height": null,
            "justify_content": null,
            "justify_items": null,
            "left": null,
            "margin": null,
            "max_height": null,
            "max_width": null,
            "min_height": null,
            "min_width": null,
            "object_fit": null,
            "object_position": null,
            "order": null,
            "overflow": null,
            "overflow_x": null,
            "overflow_y": null,
            "padding": null,
            "right": null,
            "top": null,
            "visibility": null,
            "width": null
          }
        },
        "460d11e122ca49a8ac68ac5df6ea30d0": {
          "model_module": "@jupyter-widgets/base",
          "model_name": "LayoutModel",
          "model_module_version": "1.2.0",
          "state": {
            "_model_module": "@jupyter-widgets/base",
            "_model_module_version": "1.2.0",
            "_model_name": "LayoutModel",
            "_view_count": null,
            "_view_module": "@jupyter-widgets/base",
            "_view_module_version": "1.2.0",
            "_view_name": "LayoutView",
            "align_content": null,
            "align_items": null,
            "align_self": null,
            "border": null,
            "bottom": null,
            "display": null,
            "flex": null,
            "flex_flow": null,
            "grid_area": null,
            "grid_auto_columns": null,
            "grid_auto_flow": null,
            "grid_auto_rows": null,
            "grid_column": null,
            "grid_gap": null,
            "grid_row": null,
            "grid_template_areas": null,
            "grid_template_columns": null,
            "grid_template_rows": null,
            "height": null,
            "justify_content": null,
            "justify_items": null,
            "left": null,
            "margin": null,
            "max_height": null,
            "max_width": null,
            "min_height": null,
            "min_width": null,
            "object_fit": null,
            "object_position": null,
            "order": null,
            "overflow": null,
            "overflow_x": null,
            "overflow_y": null,
            "padding": null,
            "right": null,
            "top": null,
            "visibility": null,
            "width": null
          }
        },
        "19a81f9135a04677b5054e3a93b7a9db": {
          "model_module": "@jupyter-widgets/controls",
          "model_name": "ToggleButtonsStyleModel",
          "model_module_version": "1.5.0",
          "state": {
            "_model_module": "@jupyter-widgets/controls",
            "_model_module_version": "1.5.0",
            "_model_name": "ToggleButtonsStyleModel",
            "_view_count": null,
            "_view_module": "@jupyter-widgets/base",
            "_view_module_version": "1.2.0",
            "_view_name": "StyleView",
            "button_width": "",
            "description_width": "",
            "font_weight": ""
          }
        },
        "c3d216a74b3740af9f6681fa56bb4d56": {
          "model_module": "@jupyter-widgets/base",
          "model_name": "LayoutModel",
          "model_module_version": "1.2.0",
          "state": {
            "_model_module": "@jupyter-widgets/base",
            "_model_module_version": "1.2.0",
            "_model_name": "LayoutModel",
            "_view_count": null,
            "_view_module": "@jupyter-widgets/base",
            "_view_module_version": "1.2.0",
            "_view_name": "LayoutView",
            "align_content": null,
            "align_items": null,
            "align_self": null,
            "border": null,
            "bottom": null,
            "display": null,
            "flex": null,
            "flex_flow": null,
            "grid_area": null,
            "grid_auto_columns": null,
            "grid_auto_flow": null,
            "grid_auto_rows": null,
            "grid_column": null,
            "grid_gap": null,
            "grid_row": null,
            "grid_template_areas": null,
            "grid_template_columns": null,
            "grid_template_rows": null,
            "height": null,
            "justify_content": null,
            "justify_items": null,
            "left": null,
            "margin": null,
            "max_height": null,
            "max_width": null,
            "min_height": null,
            "min_width": null,
            "object_fit": null,
            "object_position": null,
            "order": null,
            "overflow": null,
            "overflow_x": null,
            "overflow_y": null,
            "padding": null,
            "right": null,
            "top": null,
            "visibility": null,
            "width": null
          }
        },
        "71e136ad5e704ce1a4ef5bae8d330a67": {
          "model_module": "@jupyter-widgets/controls",
          "model_name": "DescriptionStyleModel",
          "model_module_version": "1.5.0",
          "state": {
            "_model_module": "@jupyter-widgets/controls",
            "_model_module_version": "1.5.0",
            "_model_name": "DescriptionStyleModel",
            "_view_count": null,
            "_view_module": "@jupyter-widgets/base",
            "_view_module_version": "1.2.0",
            "_view_name": "StyleView",
            "description_width": ""
          }
        },
        "02cbc638465c42caa7fd715c85c0dcfe": {
          "model_module": "@jupyter-widgets/base",
          "model_name": "LayoutModel",
          "model_module_version": "1.2.0",
          "state": {
            "_model_module": "@jupyter-widgets/base",
            "_model_module_version": "1.2.0",
            "_model_name": "LayoutModel",
            "_view_count": null,
            "_view_module": "@jupyter-widgets/base",
            "_view_module_version": "1.2.0",
            "_view_name": "LayoutView",
            "align_content": null,
            "align_items": null,
            "align_self": null,
            "border": null,
            "bottom": null,
            "display": null,
            "flex": null,
            "flex_flow": null,
            "grid_area": null,
            "grid_auto_columns": null,
            "grid_auto_flow": null,
            "grid_auto_rows": null,
            "grid_column": null,
            "grid_gap": null,
            "grid_row": null,
            "grid_template_areas": null,
            "grid_template_columns": null,
            "grid_template_rows": null,
            "height": null,
            "justify_content": null,
            "justify_items": null,
            "left": null,
            "margin": null,
            "max_height": null,
            "max_width": null,
            "min_height": null,
            "min_width": null,
            "object_fit": null,
            "object_position": null,
            "order": null,
            "overflow": null,
            "overflow_x": null,
            "overflow_y": null,
            "padding": null,
            "right": null,
            "top": null,
            "visibility": null,
            "width": null
          }
        },
        "18b5ff78afcd428ebe530d5908b8626e": {
          "model_module": "@jupyter-widgets/controls",
          "model_name": "ToggleButtonsStyleModel",
          "model_module_version": "1.5.0",
          "state": {
            "_model_module": "@jupyter-widgets/controls",
            "_model_module_version": "1.5.0",
            "_model_name": "ToggleButtonsStyleModel",
            "_view_count": null,
            "_view_module": "@jupyter-widgets/base",
            "_view_module_version": "1.2.0",
            "_view_name": "StyleView",
            "button_width": "",
            "description_width": "",
            "font_weight": ""
          }
        },
        "c5d72c726fc444a3bf7bcedfa3fcb945": {
          "model_module": "@jupyter-widgets/base",
          "model_name": "LayoutModel",
          "model_module_version": "1.2.0",
          "state": {
            "_model_module": "@jupyter-widgets/base",
            "_model_module_version": "1.2.0",
            "_model_name": "LayoutModel",
            "_view_count": null,
            "_view_module": "@jupyter-widgets/base",
            "_view_module_version": "1.2.0",
            "_view_name": "LayoutView",
            "align_content": null,
            "align_items": null,
            "align_self": null,
            "border": null,
            "bottom": null,
            "display": null,
            "flex": null,
            "flex_flow": null,
            "grid_area": null,
            "grid_auto_columns": null,
            "grid_auto_flow": null,
            "grid_auto_rows": null,
            "grid_column": null,
            "grid_gap": null,
            "grid_row": null,
            "grid_template_areas": null,
            "grid_template_columns": null,
            "grid_template_rows": null,
            "height": null,
            "justify_content": null,
            "justify_items": null,
            "left": null,
            "margin": null,
            "max_height": null,
            "max_width": null,
            "min_height": null,
            "min_width": null,
            "object_fit": null,
            "object_position": null,
            "order": null,
            "overflow": null,
            "overflow_x": null,
            "overflow_y": null,
            "padding": null,
            "right": null,
            "top": null,
            "visibility": null,
            "width": null
          }
        },
        "350cd6fa84294079aec31c74fb5e4459": {
          "model_module": "@jupyter-widgets/controls",
          "model_name": "ToggleButtonsStyleModel",
          "model_module_version": "1.5.0",
          "state": {
            "_model_module": "@jupyter-widgets/controls",
            "_model_module_version": "1.5.0",
            "_model_name": "ToggleButtonsStyleModel",
            "_view_count": null,
            "_view_module": "@jupyter-widgets/base",
            "_view_module_version": "1.2.0",
            "_view_name": "StyleView",
            "button_width": "",
            "description_width": "",
            "font_weight": ""
          }
        },
        "0c413891e0c14cb1a914c9afcba3dd94": {
          "model_module": "@jupyter-widgets/base",
          "model_name": "LayoutModel",
          "model_module_version": "1.2.0",
          "state": {
            "_model_module": "@jupyter-widgets/base",
            "_model_module_version": "1.2.0",
            "_model_name": "LayoutModel",
            "_view_count": null,
            "_view_module": "@jupyter-widgets/base",
            "_view_module_version": "1.2.0",
            "_view_name": "LayoutView",
            "align_content": null,
            "align_items": null,
            "align_self": null,
            "border": null,
            "bottom": null,
            "display": null,
            "flex": null,
            "flex_flow": null,
            "grid_area": null,
            "grid_auto_columns": null,
            "grid_auto_flow": null,
            "grid_auto_rows": null,
            "grid_column": null,
            "grid_gap": null,
            "grid_row": null,
            "grid_template_areas": null,
            "grid_template_columns": null,
            "grid_template_rows": null,
            "height": null,
            "justify_content": null,
            "justify_items": null,
            "left": null,
            "margin": null,
            "max_height": null,
            "max_width": null,
            "min_height": null,
            "min_width": null,
            "object_fit": null,
            "object_position": null,
            "order": null,
            "overflow": null,
            "overflow_x": null,
            "overflow_y": null,
            "padding": null,
            "right": null,
            "top": null,
            "visibility": null,
            "width": "95%"
          }
        },
        "e764d86d2b054c6d943fb4c2efbdc86a": {
          "model_module": "@jupyter-widgets/controls",
          "model_name": "DescriptionStyleModel",
          "model_module_version": "1.5.0",
          "state": {
            "_model_module": "@jupyter-widgets/controls",
            "_model_module_version": "1.5.0",
            "_model_name": "DescriptionStyleModel",
            "_view_count": null,
            "_view_module": "@jupyter-widgets/base",
            "_view_module_version": "1.2.0",
            "_view_name": "StyleView",
            "description_width": ""
          }
        },
        "cb1f8afdef224cb884cb43b5afa15970": {
          "model_module": "@jupyter-widgets/base",
          "model_name": "LayoutModel",
          "model_module_version": "1.2.0",
          "state": {
            "_model_module": "@jupyter-widgets/base",
            "_model_module_version": "1.2.0",
            "_model_name": "LayoutModel",
            "_view_count": null,
            "_view_module": "@jupyter-widgets/base",
            "_view_module_version": "1.2.0",
            "_view_name": "LayoutView",
            "align_content": null,
            "align_items": null,
            "align_self": null,
            "border": null,
            "bottom": null,
            "display": null,
            "flex": null,
            "flex_flow": null,
            "grid_area": null,
            "grid_auto_columns": null,
            "grid_auto_flow": null,
            "grid_auto_rows": null,
            "grid_column": null,
            "grid_gap": null,
            "grid_row": null,
            "grid_template_areas": null,
            "grid_template_columns": null,
            "grid_template_rows": null,
            "height": null,
            "justify_content": null,
            "justify_items": null,
            "left": null,
            "margin": null,
            "max_height": null,
            "max_width": null,
            "min_height": null,
            "min_width": null,
            "object_fit": null,
            "object_position": null,
            "order": null,
            "overflow": null,
            "overflow_x": null,
            "overflow_y": null,
            "padding": null,
            "right": null,
            "top": null,
            "visibility": null,
            "width": null
          }
        },
        "92e614444a5740d4b65ac2aae3c45646": {
          "model_module": "@jupyter-widgets/controls",
          "model_name": "ButtonStyleModel",
          "model_module_version": "1.5.0",
          "state": {
            "_model_module": "@jupyter-widgets/controls",
            "_model_module_version": "1.5.0",
            "_model_name": "ButtonStyleModel",
            "_view_count": null,
            "_view_module": "@jupyter-widgets/base",
            "_view_module_version": "1.2.0",
            "_view_name": "StyleView",
            "button_color": null,
            "font_weight": ""
          }
        },
        "5cc7b82940dd4dc18ed9d14caf5fd6a6": {
          "model_module": "@jupyter-widgets/base",
          "model_name": "LayoutModel",
          "model_module_version": "1.2.0",
          "state": {
            "_model_module": "@jupyter-widgets/base",
            "_model_module_version": "1.2.0",
            "_model_name": "LayoutModel",
            "_view_count": null,
            "_view_module": "@jupyter-widgets/base",
            "_view_module_version": "1.2.0",
            "_view_name": "LayoutView",
            "align_content": null,
            "align_items": null,
            "align_self": null,
            "border": null,
            "bottom": null,
            "display": null,
            "flex": null,
            "flex_flow": null,
            "grid_area": null,
            "grid_auto_columns": null,
            "grid_auto_flow": null,
            "grid_auto_rows": null,
            "grid_column": null,
            "grid_gap": null,
            "grid_row": null,
            "grid_template_areas": null,
            "grid_template_columns": null,
            "grid_template_rows": null,
            "height": null,
            "justify_content": null,
            "justify_items": null,
            "left": null,
            "margin": null,
            "max_height": null,
            "max_width": null,
            "min_height": null,
            "min_width": null,
            "object_fit": null,
            "object_position": null,
            "order": null,
            "overflow": null,
            "overflow_x": null,
            "overflow_y": null,
            "padding": null,
            "right": null,
            "top": null,
            "visibility": null,
            "width": null
          }
        }
      }
    }
  },
  "cells": [
    {
      "cell_type": "markdown",
      "source": [
        "# 라이브러리 설치"
      ],
      "metadata": {
        "id": "sdt31l8m9FGK"
      }
    },
    {
      "cell_type": "code",
      "source": [
        "!pip install -q chromadb sentence-transformers openai ipywidgets\n",
        "!jupyter nbextension enable --py widgetsnbextension"
      ],
      "metadata": {
        "id": "jx0tC1_b8oDa",
        "colab": {
          "base_uri": "https://localhost:8080/"
        },
        "outputId": "431dccc8-404d-48c8-8d73-e04d218f7174"
      },
      "execution_count": 9,
      "outputs": [
        {
          "output_type": "stream",
          "name": "stdout",
          "text": [
            "Enabling notebook extension jupyter-js-widgets/extension...\n",
            "Paths used for configuration of notebook: \n",
            "    \t/root/.jupyter/nbconfig/notebook.json\n",
            "Paths used for configuration of notebook: \n",
            "    \t\n",
            "      - Validating: \u001b[32mOK\u001b[0m\n",
            "Paths used for configuration of notebook: \n",
            "    \t/root/.jupyter/nbconfig/notebook.json\n"
          ]
        }
      ]
    },
    {
      "cell_type": "markdown",
      "source": [
        "# API Key 환경 설정"
      ],
      "metadata": {
        "id": "B6ed6KuM9a0F"
      }
    },
    {
      "cell_type": "code",
      "source": [
        "from google.colab import userdata\n",
        "HF_TOKEN = userdata.get('HF_TOKEN') # Hugging Face Token\n",
        "GOOGLE_API_KEY = userdata.get('GOOGLE_API_KEY') # Google Custom Search API 키\n",
        "GOOGLE_CSE_ID = userdata.get('GOOGLE_CSE_ID') # Programmable Search Engine ID\n",
        "OPENAI_API_KEY = userdata.get('OPENAI_API_KEY') # OpenAI API Key\n",
        "client_id = userdata.get('NAVER_CLIENT_ID') # Naver Client Key\n",
        "client_secret = userdata.get('NAVER_CLIENT_SECRET') # Naver Client Secret"
      ],
      "metadata": {
        "id": "eMmaVqIk9aFh"
      },
      "execution_count": 10,
      "outputs": []
    },
    {
      "cell_type": "markdown",
      "source": [
        "# Base Knowledge 수집용 네이버쇼핑 영양제 상품 검색 코드"
      ],
      "metadata": {
        "id": "_MP-nZVT9IJs"
      }
    },
    {
      "cell_type": "code",
      "execution_count": 11,
      "metadata": {
        "id": "zkuqQr7qfAvb"
      },
      "outputs": [],
      "source": [
        "import requests\n",
        "from urllib.parse import quote\n",
        "\n",
        "def naver_shop_search(query, display=100):\n",
        "    encoded_query = quote(query)\n",
        "    url = f\"https://openapi.naver.com/v1/search/shop.json?query={encoded_query}&display={display}&start=1&sort=sim&exclude=used:cbshop:rental\"\n",
        "\n",
        "    headers = {\n",
        "        \"X-Naver-Client-Id\": client_id,\n",
        "        \"X-Naver-Client-Secret\": client_secret\n",
        "    }\n",
        "\n",
        "    response = requests.get(url, headers=headers)\n",
        "\n",
        "    if response.status_code == 200:\n",
        "        return response.json()\n",
        "    else:\n",
        "        return {\"error\": response.status_code}\n",
        "\n",
        "result = naver_shop_search(\"영양제\", 100)"
      ]
    },
    {
      "cell_type": "markdown",
      "source": [
        "# 추가 정보 수집을 위한 구글 검색 코드"
      ],
      "metadata": {
        "id": "QkMiqKHE9k6E"
      }
    },
    {
      "cell_type": "code",
      "source": [
        "from googleapiclient.discovery import build\n",
        "\n",
        "def google_search(query, num=10):\n",
        "    service = build(\"customsearch\", \"v1\", developerKey=GOOGLE_API_KEY)\n",
        "    res = service.cse().list(q=query, cx=GOOGLE_CSE_ID, num=num).execute()\n",
        "    return [item[\"snippet\"] for item in res[\"items\"]]\n"
      ],
      "metadata": {
        "id": "tQqNfgec9kFO"
      },
      "execution_count": 12,
      "outputs": []
    },
    {
      "cell_type": "markdown",
      "source": [
        "# Base Knowledge를 Vector DB에 저장하는 코드"
      ],
      "metadata": {
        "id": "0nDp44_D9K8M"
      }
    },
    {
      "cell_type": "code",
      "source": [
        "# 네이버쇼핑 검색 결과 -> Vector DB (Chroma) 저장\n",
        "import chromadb\n",
        "from chromadb.utils import embedding_functions\n",
        "from sentence_transformers import SentenceTransformer\n",
        "\n",
        "# 데이터 전처리\n",
        "def preprocess_items(items):\n",
        "    processed = []\n",
        "    for item in items:\n",
        "        data = {\n",
        "            \"id\": item['productId'],\n",
        "            \"text\": f\"{item['title']} {item['brand']} {item['maker']} {item['category3']}\",  # 임베딩용 텍스트\n",
        "            \"metadata\": {\n",
        "                \"price\": int(item['lprice']),\n",
        "                \"brand\": item['brand'],\n",
        "                \"category\": f\"{item['category1']}>{item['category2']}>{item['category3']}\",\n",
        "                \"link\": item['link']\n",
        "            }\n",
        "        }\n",
        "        processed.append(data)\n",
        "    return processed\n",
        "\n",
        "# Chroma DB 초기화\n",
        "client = chromadb.PersistentClient(path=\"./naver_shopping_db\")\n",
        "embedding_model = embedding_functions.SentenceTransformerEmbeddingFunction(\n",
        "    model_name=\"sentence-transformers/paraphrase-multilingual-mpnet-base-v2\", token=HF_TOKEN\n",
        ")\n",
        "# 기존 컬렉션이 있으면 삭제 후 재생성\n",
        "try:\n",
        "    client.delete_collection(\"products\")\n",
        "except:\n",
        "    pass\n",
        "collection = client.create_collection(\n",
        "    name=\"products\",\n",
        "    embedding_function=embedding_model,\n",
        "    metadata={\"hnsw:space\": \"cosine\"}\n",
        ")\n",
        "\n",
        "# 데이터 저장\n",
        "if 'items' in result:\n",
        "    processed_data = preprocess_items(result['items'])\n",
        "    collection.add(\n",
        "        ids=[item['id'] for item in processed_data],\n",
        "        documents=[item['text'] for item in processed_data],\n",
        "        metadatas=[item['metadata'] for item in processed_data]\n",
        "    )\n",
        "    print(\"성공적으로\", len(processed_data), \"개 상품 저장됨\")\n",
        "else:\n",
        "    print(\"Error:\", result.get('error', '데이터 없음'))\n"
      ],
      "metadata": {
        "id": "04HhIARLgZcr",
        "colab": {
          "base_uri": "https://localhost:8080/"
        },
        "outputId": "f1baa066-013f-47e1-cdc5-0031249c4e5b"
      },
      "execution_count": 13,
      "outputs": [
        {
          "output_type": "stream",
          "name": "stdout",
          "text": [
            "성공적으로 100 개 상품 저장됨\n"
          ]
        }
      ]
    },
    {
      "cell_type": "markdown",
      "source": [
        "# Vector DB 검색 코드"
      ],
      "metadata": {
        "id": "3iaTkTCqVcDE"
      }
    },
    {
      "cell_type": "code",
      "source": [
        "def vectordb_search(query, n_results=10):\n",
        "    results = collection.query(\n",
        "        query_texts=[query],\n",
        "        n_results=n_results\n",
        "    )\n",
        "    output = []\n",
        "    for idx, (doc, meta) in enumerate(zip(results['documents'][0], results['metadatas'][0]), 1):\n",
        "        output.append({\n",
        "            \"제품정보\": doc,\n",
        "            \"메타데이터\": meta\n",
        "        })\n",
        "    return output\n",
        "# vectordb_search(\"루테인\")"
      ],
      "metadata": {
        "id": "NPhiJj3qVbdY"
      },
      "execution_count": 15,
      "outputs": []
    },
    {
      "cell_type": "markdown",
      "source": [
        "# 검색 도구 함수 정의 (Function Calling)"
      ],
      "metadata": {
        "id": "G7eGjTt_AQg-"
      }
    },
    {
      "cell_type": "code",
      "source": [
        "recommend_nutrient = {\n",
        "    \"name\": \"recommend_nutrient\",\n",
        "    \"description\": \"사용자가 입력한 상태를 분석해 영양소를 추천합니다.\",\n",
        "    \"parameters\": {\n",
        "        \"type\": \"object\",\n",
        "        \"properties\": {\n",
        "            \"nutrient\": {\"type\": \"string\", \"description\": \"추천하는 영양소 성분\"},\n",
        "            \"query\": {\"type\": \"string\", \"description\": \"사용자 상태 쿼리\"\n",
        "            }\n",
        "        },\n",
        "        \"required\": [\"nutrient\", \"query\"]\n",
        "    }\n",
        "}\n",
        "\n",
        "excessive_nutrient = {\n",
        "    \"name\": \"excessive_nutrient\",\n",
        "    \"description\": \"사용자가 입력한 영양제 섭취 상태를 분석해 일일 권장량을 초과하는 영양소를 찾습니다.\",\n",
        "    \"parameters\": {\n",
        "        \"type\": \"object\",\n",
        "        \"properties\": {\n",
        "            \"nutrient\": {\"type\": \"string\", \"description\": \"초과하는 영양소 성분\"},\n",
        "            \"query\": {\"type\": \"string\", \"description\": \"계산 수식과 초과한 이유\"\n",
        "            }\n",
        "        },\n",
        "        \"required\": [\"nutrient\", \"query\"]\n",
        "    }\n",
        "}\n",
        "\n",
        "vectordb_search_schema = {\n",
        "  \"name\": \"vectordb_search\",\n",
        "  \"description\": \"추천 영양소로 Vector DB에서 제품 검색\",\n",
        "  \"parameters\": {\n",
        "    \"type\": \"object\",\n",
        "    \"properties\": {\n",
        "      \"query\": {\"type\": \"string\"},\n",
        "      \"max_results\": {\"type\": \"integer\", \"default\": 10}\n",
        "    },\n",
        "    \"required\": [\"query\"]\n",
        "  }\n",
        "}\n",
        "\n",
        "google_search_function_schema = {\n",
        "  \"name\": \"google_search\",\n",
        "  \"description\": \"검색된 제품을 Google 검색해서 상세 정보 조회\",\n",
        "  \"parameters\": {\n",
        "    \"type\": \"object\",\n",
        "    \"properties\": {\n",
        "      \"query\": {\"type\": \"string\"},\n",
        "      \"num_results\": {\"type\": \"integer\", \"default\": 10}\n",
        "    },\n",
        "    \"required\": [\"query\"]\n",
        "  }\n",
        "}\n"
      ],
      "metadata": {
        "id": "Gr8ZOqz-_9bs"
      },
      "execution_count": 16,
      "outputs": []
    },
    {
      "cell_type": "markdown",
      "source": [
        "# LLM 동작 코드"
      ],
      "metadata": {
        "id": "WBHbwmxxCTHy"
      }
    },
    {
      "cell_type": "code",
      "source": [
        "from openai import OpenAI\n",
        "import json\n",
        "import re\n",
        "\n",
        "client = OpenAI(api_key=userdata.get('OPENAI_API_KEY'))\n",
        "\n",
        "def nutrient_too_much_check(symptom, gender, age, pregnancy, mode):\n",
        "    prompt = f\"\"\"\n",
        "      사용자 정보:\n",
        "      - 성별: {gender}\n",
        "      - 나이: {age}\n",
        "      - 임신 여부: {pregnancy}\n",
        "      - 원하는 것: {mode}\n",
        "      - 상태: {symptom}\n",
        "  현재 사용자가 섭취하고 있는 상태인 각각 영양소의 총 함량과 해당 영양소의 일일 권장량을 비교하여 초과/미달 여부를 계산하세요. 계산 근거를 같이 제시하세요.\n",
        "      \"\"\"\n",
        "    messages = [\n",
        "        {\n",
        "            \"role\": \"system\",\n",
        "            \"content\": \"너는 건강 기반의 영양제 조언 전문가야. 전문적으로 답변해줘.\"\n",
        "        },\n",
        "        {\"role\": \"user\", \"content\": prompt}\n",
        "    ]\n",
        "\n",
        "    # Step 1\n",
        "    print(\"현재 messages:\", messages)\n",
        "    res = client.chat.completions.create(\n",
        "        model=\"gpt-4.1-mini\",\n",
        "        messages=messages,\n",
        "        functions= [excessive_nutrient],\n",
        "        function_call={\"name\": \"excessive_nutrient\"},\n",
        "        temperature=0.5\n",
        "        )\n",
        "    # print(\"LLM 전체 응답:\", res)\n",
        "    func_name = res.choices[0].message.function_call.name\n",
        "    print(\"호출된 함수:\", func_name)\n",
        "    print(\"함수 인자(raw):\", res.choices[0].message.function_call.arguments)\n",
        "\n",
        "    args = json.loads(res.choices[0].message.function_call.arguments)\n",
        "    print(args)\n",
        "    # nutrient = args[\"nutrient\"]\n",
        "    # print(f\"추천 영양소: {nutrient}\")\n",
        "\n",
        "\n",
        "def nutrient_recommend_check(symptom, gender, age, pregnancy, mode):\n",
        "  prompt = f\"\"\"\n",
        "    사용자 정보:\n",
        "    - 성별: {gender}\n",
        "    - 나이: {age}\n",
        "    - 임신 여부: {pregnancy}\n",
        "    - 원하는 것: {mode}\n",
        "    - 상태: {symptom}\n",
        "\n",
        "    \"\"\"\n",
        "\n",
        "  if mode==\"식습관 분석을 통한 영양제 추천\":\n",
        "    prompt+=\"\\n현재 사용자의 식사 습관 상태를 고려하여 결핍되거나 보조적으로 섭취가 필요한 가장 적절한 영양소를 1가지 추천하세요.\\n\"\n",
        "    nutrient_recommend(prompt,symptom, gender, age, pregnancy, mode)\n",
        "  elif mode==\"불편 현상에 따른 영양제 추천\":\n",
        "    prompt+=\"\\n현재 사용자가 불편해 하는 상태를 해결할 수 있는 가장 적절한 영양소를 1가지 추천하세요.\\n\"\n",
        "    nutrient_recommend(prompt,symptom, gender, age, pregnancy, mode)\n",
        "\n",
        "\n",
        "def nutrient_recommend(condition,symptom, gender, age, pregnancy, mode):\n",
        "    prompt = condition\n",
        "    messages = [\n",
        "        {\n",
        "            \"role\": \"system\",\n",
        "            \"content\": \"너는 건강 기반의 영양제 조언 전문가야. 전문적으로 답변해줘.\"\n",
        "        },\n",
        "        {\"role\": \"user\", \"content\": prompt}\n",
        "    ]\n",
        "\n",
        "    # Step 1\n",
        "    print(\"현재 messages:\", messages)\n",
        "    res = client.chat.completions.create(\n",
        "        model=\"gpt-4.1-mini\",\n",
        "        messages=messages,\n",
        "        functions= [recommend_nutrient],\n",
        "        function_call={\"name\": \"recommend_nutrient\"},\n",
        "        temperature=0.5\n",
        "        )\n",
        "    # print(\"LLM 전체 응답:\", res)\n",
        "    func_name = res.choices[0].message.function_call.name\n",
        "    print(\"호출된 함수:\", func_name)\n",
        "    print(\"함수 인자(raw):\", res.choices[0].message.function_call.arguments)\n",
        "\n",
        "    args = json.loads(res.choices[0].message.function_call.arguments)\n",
        "    nutrient = args[\"nutrient\"]\n",
        "    print(f\"추천 영양소: {nutrient}\")\n",
        "\n",
        "    # Step 2\n",
        "    search_results = vectordb_search(args[\"query\"])  # 실제 검색 실행\n",
        "    messages.append({\n",
        "      \"role\": \"assistant\",\n",
        "      \"content\": None,\n",
        "      \"function_call\": {\n",
        "          \"name\": func_name,\n",
        "          \"arguments\": res.choices[0].message.function_call.arguments\n",
        "        }\n",
        "    })\n",
        "\n",
        "    messages.append({\n",
        "        \"role\": \"function\",\n",
        "        \"name\": func_name,\n",
        "        \"content\": f\"VectorDB 검색 결과: {json.dumps(search_results)}\"\n",
        "    })\n",
        "\n",
        "    messages.append({\n",
        "        \"role\": \"user\",\n",
        "        \"content\": f\"Vector DB에서 검색한 추천하는 영양소를 포함하는 영양제 제품 중 제일 적합한 영양제 제품 하나를 찾으세요\"\n",
        "    })\n",
        "\n",
        "    res = client.chat.completions.create(\n",
        "        model=\"gpt-4.1-mini\",\n",
        "        messages=messages,\n",
        "        functions= [vectordb_search_schema],\n",
        "        function_call={\"name\": \"vectordb_search\"},\n",
        "        temperature=0.5\n",
        "        )\n",
        "\n",
        "    func_name = res.choices[0].message.function_call.name\n",
        "    print(\"호출된 함수:\", func_name)\n",
        "    print(\"함수 인자(raw):\", res.choices[0].message.function_call.arguments)\n",
        "    print(\"메세지: \",res.choices[0].message)\n",
        "\n",
        "    # Step 3\n",
        "    args = json.loads(res.choices[0].message.function_call.arguments)\n",
        "\n",
        "    search_results = google_search(args[\"query\"])  # 실제 검색 실행\n",
        "    messages.append({\n",
        "      \"role\": \"assistant\",\n",
        "      \"content\": None,\n",
        "      \"function_call\": {\n",
        "          \"name\": func_name,\n",
        "          \"arguments\": res.choices[0].message.function_call.arguments\n",
        "        }\n",
        "    })\n",
        "\n",
        "    messages.append({\n",
        "        \"role\": \"function\",\n",
        "        \"name\": func_name,\n",
        "        \"content\": f\"Google 검색 결과: {json.dumps(search_results)}\"\n",
        "    })\n",
        "    messages.append({\n",
        "        \"role\": \"user\",\n",
        "        \"content\": f\"찾은 영양제 제품을 Google에서 검색하여 자세한 함량 정보를 수집하세요.\",\n",
        "\n",
        "    })\n",
        "    res = client.chat.completions.create(\n",
        "        model=\"gpt-3.5-turbo\",\n",
        "        messages=messages,\n",
        "        functions=[google_search_function_schema],\n",
        "        function_call={\"name\": \"google_search\"},\n",
        "        temperature=0.5\n",
        "    )\n",
        "    func_name = res.choices[0].message.function_call.name\n",
        "    print(\"호출된 함수:\", func_name)\n",
        "    print(\"함수 인자(raw):\", res.choices[0].message.function_call.arguments)\n",
        "    print(\"메세지: \",res.choices[0].message)\n",
        "\n",
        "    # 최종 응답 생성 부분 수정\n",
        "    final_response = client.chat.completions.create(\n",
        "        model=\"gpt-3.5-turbo\",\n",
        "        messages=messages + [{\n",
        "            \"role\": \"user\",\n",
        "            \"content\": f\"\"\"\n",
        "            지금까지의 검색 결과를 종합해서 다음 형식의 표로 정확하게 정리해주세요.\n",
        "            | 제조사 | 제품명 | 주요 성분 | 함량 | 링크 |\n",
        "            |--------|--------|-----------|------|------|\n",
        "            필수 항목: 제조사, 제품명, 주요 영양 성분, 함량, 구매 링크\n",
        "\n",
        "            \"\"\"\n",
        "        }]\n",
        "    )\n",
        "\n",
        "\n",
        "    print(\"\\n최종 결과:\")\n",
        "    print(final_response.choices[0].message.content)\n",
        "\n",
        "\n",
        "\n",
        "def llm_divider(symptom, gender, age, pregnancy, mode):\n",
        "  if mode==\"식습관 분석을 통한 영양제 추천\" or mode==\"불편 현상에 따른 영양제 추천\" :\n",
        "    nutrient_recommend_check(symptom, gender, age, pregnancy, mode)\n",
        "  elif mode==\"영양제 과다 복용 확인\":\n",
        "    nutrient_too_much_check(symptom, gender, age, pregnancy, mode)\n"
      ],
      "metadata": {
        "id": "nHAUUZQKCQ8r"
      },
      "execution_count": 21,
      "outputs": []
    },
    {
      "cell_type": "markdown",
      "source": [
        "# User Interface 정의 코드"
      ],
      "metadata": {
        "id": "hC2GEN_FC_fp"
      }
    },
    {
      "cell_type": "code",
      "source": [
        "import ipywidgets as widgets\n",
        "from IPython.display import display, clear_output\n",
        "\n",
        "# --- 위젯 UI 구성 ---\n",
        "gender = widgets.ToggleButtons(options=[\"남성\", \"여성\"], description='성별:')\n",
        "age = widgets.IntText(value=30, description='만 나이:')\n",
        "pregnancy = widgets.ToggleButtons(options=[\"해당 없음\", \"임신 중\", \"임신 가능성\"], description='임신 여부:')\n",
        "mode = widgets.ToggleButtons(options=[\"식습관 분석을 통한 영양제 추천\", \"불편 현상에 따른 영양제 추천\", \"영양제 과다 복용 확인\"], description='메뉴:')\n",
        "\n",
        "# ✅ 입력창 너비 확장\n",
        "symptom_input = widgets.Text(\n",
        "    placeholder='증상 또는 복용 제품 입력',\n",
        "    description='입력:',\n",
        "    layout=widgets.Layout(width='95%')\n",
        ")\n",
        "\n",
        "submit_button = widgets.Button(description=\"제출\", button_style=\"success\")\n",
        "output_box = widgets.Output()\n",
        "\n",
        "# --- 실행 로직 ---\n",
        "def on_submit_clicked(b):\n",
        "    with output_box:\n",
        "        clear_output()\n",
        "        info = {\n",
        "            \"성별\": gender.value,\n",
        "            \"나이\": age.value,\n",
        "            \"임신 여부\": pregnancy.value,\n",
        "            \"선택 기능\": mode.value\n",
        "        }\n",
        "        symptom = symptom_input.value.strip()\n",
        "\n",
        "        print(f\"사용자 정보: {info}\")\n",
        "        print(f\"선택한 기능: {mode.value}\")\n",
        "        print()\n",
        "\n",
        "        if not symptom:\n",
        "            print(\"⚠️ 증상이나 복용 제품을 입력해주세요.\")\n",
        "            return\n",
        "\n",
        "        llm_divider(symptom, gender.value, age.value, pregnancy.value, mode.value)\n",
        "        print(\"\\n ※ 이 답변은 빅데이터 기반으로 제공되며, 정확한 복약은 전문가 상담이 필요합니다.\")"
      ],
      "metadata": {
        "id": "99fUniPODCcI"
      },
      "execution_count": 27,
      "outputs": []
    },
    {
      "cell_type": "markdown",
      "source": [
        "# User Interface 실행"
      ],
      "metadata": {
        "id": "NZ8lMnlmDH1E"
      }
    },
    {
      "cell_type": "code",
      "source": [
        "# --- UI 연결 및 실행 ---\n",
        "submit_button.on_click(on_submit_clicked)\n",
        "display(widgets.VBox([\n",
        "    gender, age, pregnancy, mode, symptom_input, submit_button, output_box\n",
        "]))\n"
      ],
      "metadata": {
        "colab": {
          "base_uri": "https://localhost:8080/",
          "height": 581,
          "referenced_widgets": [
            "65d5ee4c4d3f46e58a1fe5809df4296d",
            "7a4a87e71e5d4a8eb72b2d9f0c6326e1",
            "345cd2a08e5d48e0852411eccb241f82",
            "3e0ac9ecf4bb481f9b60996accca4ff3",
            "83822fa2da294ca3b51ecf9854a55dae",
            "77eb34a008de41c7839b825623957024",
            "e9c1f73f3fc042718f496a5645540e7c",
            "6ddbbe07f6e54ca48ca3cf2a0e3f9acb",
            "c79c82ebc50d448fa18cb89a53ab8eec",
            "460d11e122ca49a8ac68ac5df6ea30d0",
            "19a81f9135a04677b5054e3a93b7a9db",
            "c3d216a74b3740af9f6681fa56bb4d56",
            "71e136ad5e704ce1a4ef5bae8d330a67",
            "02cbc638465c42caa7fd715c85c0dcfe",
            "18b5ff78afcd428ebe530d5908b8626e",
            "c5d72c726fc444a3bf7bcedfa3fcb945",
            "350cd6fa84294079aec31c74fb5e4459",
            "0c413891e0c14cb1a914c9afcba3dd94",
            "e764d86d2b054c6d943fb4c2efbdc86a",
            "cb1f8afdef224cb884cb43b5afa15970",
            "92e614444a5740d4b65ac2aae3c45646",
            "5cc7b82940dd4dc18ed9d14caf5fd6a6"
          ]
        },
        "id": "xebHcn8rDKfP",
        "outputId": "5e660f09-8778-450d-a8a5-5bdb86511b05"
      },
      "execution_count": 28,
      "outputs": [
        {
          "output_type": "display_data",
          "data": {
            "text/plain": [
              "VBox(children=(ToggleButtons(description='성별:', options=('남성', '여성'), value='남성'), IntText(value=30, descripti…"
            ],
            "application/vnd.jupyter.widget-view+json": {
              "version_major": 2,
              "version_minor": 0,
              "model_id": "65d5ee4c4d3f46e58a1fe5809df4296d"
            }
          },
          "metadata": {}
        }
      ]
    },
    {
      "cell_type": "markdown",
      "source": [
        "# Gradio 테스트"
      ],
      "metadata": {
        "id": "UpbNEfWIuj74"
      }
    },
    {
      "cell_type": "code",
      "source": [
        "import gradio as gr\n",
        "import io\n",
        "import sys\n",
        "\n",
        "# ... (여기에 기존 코드 전체 삽입: 함수 정의, API 키 설정 등)\n",
        "\n",
        "def nutrient_advisor(symptom, gender, age, pregnancy, mode):\n",
        "\n",
        "    old_stdout = sys.stdout\n",
        "    sys.stdout = mystdout = io.StringIO()\n",
        "\n",
        "    llm_divider(symptom, gender, age, pregnancy, mode)\n",
        "    print(\"\\n※ 이 답변은 빅데이터 기반으로 제공되며, 정확한 복약은 전문가 상담이 필요합니다.\")\n",
        "\n",
        "    sys.stdout = old_stdout\n",
        "    return mystdout.getvalue()\n",
        "\n",
        "with gr.Blocks() as demo:\n",
        "    gr.Markdown(\"# 영양제 추천/과다 복용 확인\")\n",
        "    gender = gr.Radio([\"남성\", \"여성\"], label=\"성별\")\n",
        "    age = gr.Number(value=30, label=\"만 나이\")\n",
        "    pregnancy = gr.Radio([\"해당 없음\", \"임신 중\", \"임신 가능성\"], label=\"임신 여부\")\n",
        "    mode = gr.Radio(\n",
        "        [\"식습관 분석을 통한 영양제 추천\", \"불편 현상에 따른 영양제 추천\", \"영양제 과다 복용 확인\"],\n",
        "        label=\"메뉴\"\n",
        "    )\n",
        "    symptom = gr.Textbox(label=\"증상 또는 복용 제품 입력\", placeholder=\"증상 또는 복용 제품 입력\")\n",
        "    submit = gr.Button(\"제출\")\n",
        "    output = gr.Textbox(label=\"결과\", lines=15)\n",
        "\n",
        "    submit.click(\n",
        "        nutrient_advisor,\n",
        "        inputs=[symptom, gender, age, pregnancy, mode],\n",
        "        outputs=output\n",
        "    )\n",
        "\n",
        "demo.launch(share=True, debug=False)\n"
      ],
      "metadata": {
        "id": "9TwC_bL4umPS",
        "outputId": "0e851218-8c55-4d5a-852b-a8327e02d5e9",
        "colab": {
          "base_uri": "https://localhost:8080/",
          "height": 593
        }
      },
      "execution_count": 29,
      "outputs": [
        {
          "output_type": "stream",
          "name": "stdout",
          "text": [
            "Colab notebook detected. To show errors in colab notebook, set debug=True in launch()\n",
            "* Running on public URL: https://e4c9e86df70c200f3f.gradio.live\n",
            "\n",
            "This share link expires in 1 week. For free permanent hosting and GPU upgrades, run `gradio deploy` from the terminal in the working directory to deploy to Hugging Face Spaces (https://huggingface.co/spaces)\n"
          ]
        },
        {
          "output_type": "display_data",
          "data": {
            "text/plain": [
              "<IPython.core.display.HTML object>"
            ],
            "text/html": [
              "<div><iframe src=\"https://e4c9e86df70c200f3f.gradio.live\" width=\"100%\" height=\"500\" allow=\"autoplay; camera; microphone; clipboard-read; clipboard-write;\" frameborder=\"0\" allowfullscreen></iframe></div>"
            ]
          },
          "metadata": {}
        },
        {
          "output_type": "execute_result",
          "data": {
            "text/plain": []
          },
          "metadata": {},
          "execution_count": 29
        }
      ]
    }
  ]
}
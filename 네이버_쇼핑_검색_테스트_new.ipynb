{
  "nbformat": 4,
  "nbformat_minor": 0,
  "metadata": {
    "colab": {
      "provenance": []
    },
    "kernelspec": {
      "name": "python3",
      "display_name": "Python 3"
    },
    "language_info": {
      "name": "python"
    }
  },
  "cells": [
    {
      "cell_type": "markdown",
      "source": [
        "# 라이브러리 설치"
      ],
      "metadata": {
        "id": "sdt31l8m9FGK"
      }
    },
    {
      "cell_type": "code",
      "source": [
        "!pip install -q chromadb sentence-transformers openai # easyocr opencv-python"
      ],
      "metadata": {
        "id": "jx0tC1_b8oDa"
      },
      "execution_count": 2,
      "outputs": []
    },
    {
      "cell_type": "markdown",
      "source": [
        "# API Key 환경 설정"
      ],
      "metadata": {
        "id": "B6ed6KuM9a0F"
      }
    },
    {
      "cell_type": "code",
      "source": [
        "from google.colab import userdata\n",
        "HF_TOKEN = userdata.get('HF_TOKEN') # Hugging Face Token\n",
        "GOOGLE_API_KEY = userdata.get('GOOGLE_API_KEY') # Google Custom Search API 키\n",
        "GOOGLE_CSE_ID = userdata.get('GOOGLE_CSE_ID') # Programmable Search Engine ID\n",
        "OPENAI_API_KEY = userdata.get('OPENAI_API_KEY') # OpenAI API Key\n",
        "client_id = userdata.get('NAVER_CLIENT_ID') # Naver Client Key\n",
        "client_secret = userdata.get('NAVER_CLIENT_SECRET') # Naver Client Secret\n",
        "gpt_target = \"gpt-4.1-mini\""
      ],
      "metadata": {
        "id": "eMmaVqIk9aFh"
      },
      "execution_count": 3,
      "outputs": []
    },
    {
      "cell_type": "markdown",
      "source": [
        "# Base Knowledge 수집용 네이버쇼핑 영양제 상품 검색 코드"
      ],
      "metadata": {
        "id": "_MP-nZVT9IJs"
      }
    },
    {
      "cell_type": "code",
      "execution_count": 4,
      "metadata": {
        "id": "zkuqQr7qfAvb"
      },
      "outputs": [],
      "source": [
        "import requests\n",
        "from urllib.parse import quote\n",
        "\n",
        "def naver_shop_search(query, display=100):\n",
        "    encoded_query = quote(query)\n",
        "    url = f\"https://openapi.naver.com/v1/search/shop.json?query={encoded_query}&display={display}&start=1&sort=sim&exclude=used:cbshop:rental\"\n",
        "\n",
        "    headers = {\n",
        "        \"X-Naver-Client-Id\": client_id,\n",
        "        \"X-Naver-Client-Secret\": client_secret\n",
        "    }\n",
        "\n",
        "    response = requests.get(url, headers=headers)\n",
        "\n",
        "    if response.status_code == 200:\n",
        "        return response.json()\n",
        "    else:\n",
        "        return {\"error\": response.status_code}\n",
        "\n",
        "result = naver_shop_search(\"영양제\", 100)"
      ]
    },
    {
      "cell_type": "markdown",
      "source": [
        "# 추가 정보 수집을 위한 구글 검색 코드"
      ],
      "metadata": {
        "id": "QkMiqKHE9k6E"
      }
    },
    {
      "cell_type": "code",
      "source": [
        "from googleapiclient.discovery import build\n",
        "\n",
        "def google_search(query, num=10):\n",
        "    service = build(\"customsearch\", \"v1\", developerKey=GOOGLE_API_KEY)\n",
        "    res = service.cse().list(q=query, cx=GOOGLE_CSE_ID, num=num).execute()\n",
        "    return [item[\"snippet\"] for item in res[\"items\"]]\n"
      ],
      "metadata": {
        "id": "tQqNfgec9kFO"
      },
      "execution_count": 5,
      "outputs": []
    },
    {
      "cell_type": "markdown",
      "source": [
        "# Base Knowledge를 Vector DB에 저장하는 코드"
      ],
      "metadata": {
        "id": "0nDp44_D9K8M"
      }
    },
    {
      "cell_type": "code",
      "source": [
        "# 네이버쇼핑 검색 결과 -> Vector DB (Chroma) 저장\n",
        "import chromadb\n",
        "from chromadb.utils import embedding_functions\n",
        "from sentence_transformers import SentenceTransformer\n",
        "\n",
        "# import cv2\n",
        "# import easyocr\n",
        "# import requests\n",
        "# import numpy as np\n",
        "# from matplotlib import pyplot as plt\n",
        "# import logging\n",
        "# logging.getLogger('easyocr').setLevel(logging.ERROR)\n",
        "\n",
        "\n",
        "# def image_recognition(image_url):\n",
        "#   if image_url:\n",
        "#     response = requests.get(image_url)\n",
        "#     image_array = np.asarray(bytearray(response.content), dtype=np.uint8)\n",
        "#     img = cv2.imdecode(image_array, cv2.IMREAD_COLOR)\n",
        "#     if img is not None: # Add this check\n",
        "#         reader = easyocr.Reader(['en', 'ko'])\n",
        "#         results = []\n",
        "#         try:\n",
        "#           results = reader.readtext(img)\n",
        "#         except Exception as e: # Catch specific exceptions if possible, or log the error\n",
        "#           print(f\"Error reading image text for {image_url}: {e}\") # Log the error\n",
        "#         textlist = []\n",
        "#         for box,text,conf in results:\n",
        "#           if text:\n",
        "#             textlist.append(text)\n",
        "#         return ','.join(textlist)\n",
        "#     else:\n",
        "#       print(f\"Failed to decode image from URL: {image_url}\") # Log decoding failure\n",
        "#       return ''\n",
        "#   else:\n",
        "#     return ''\n",
        "\n",
        "# 데이터 전처리\n",
        "def preprocess_items(items):\n",
        "    processed = []\n",
        "    count=1\n",
        "    for item in items:\n",
        "        data = {\n",
        "            \"id\": item['productId'],\n",
        "            \"text\": f\"{item['title']} {item['brand']} {item['maker']} {item['category3']} {item['category4']}\",  # 임베딩용 텍스트\n",
        "            \"metadata\": {\n",
        "                \"price\": int(item['lprice']),\n",
        "                \"brand\": item['brand'],\n",
        "                \"category\": f\"{item['category1']}>{item['category2']}>{item['category3']}>{item['category4']}\",\n",
        "                \"link\": item['link'],\n",
        "                # \"imagetext\": image_recognition(item['image'])\n",
        "                \"imagelink\": item['image']\n",
        "            }\n",
        "        }\n",
        "        processed.append(data)\n",
        "        print(f\"\\r count : {count} / {len(items)}\", end=\"\")\n",
        "        count+=1\n",
        "    print('')\n",
        "    return processed\n",
        "\n",
        "# Chroma DB 초기화\n",
        "client = chromadb.PersistentClient(path=\"./naver_shopping_db\")\n",
        "embedding_model = embedding_functions.SentenceTransformerEmbeddingFunction(\n",
        "    model_name=\"sentence-transformers/paraphrase-multilingual-mpnet-base-v2\", token=HF_TOKEN\n",
        ")\n",
        "# 기존 컬렉션이 있으면 삭제 후 재생성\n",
        "try:\n",
        "    client.delete_collection(\"products\")\n",
        "except:\n",
        "    pass\n",
        "collection = client.create_collection(\n",
        "    name=\"products\",\n",
        "    embedding_function=embedding_model,\n",
        "    metadata={\"hnsw:space\": \"cosine\"}\n",
        ")\n",
        "\n",
        "# 데이터 저장\n",
        "if 'items' in result:\n",
        "    processed_data = preprocess_items(result['items'])\n",
        "    collection.add(\n",
        "        ids=[item['id'] for item in processed_data],\n",
        "        documents=[item['text'] for item in processed_data],\n",
        "        metadatas=[item['metadata'] for item in processed_data]\n",
        "    )\n",
        "    print(\"성공적으로\", len(processed_data), \"개 상품 저장됨\")\n",
        "else:\n",
        "    print(\"Error:\", result.get('error', '데이터 없음'))"
      ],
      "metadata": {
        "id": "04HhIARLgZcr",
        "outputId": "3c3e89b1-c1c5-4932-9d32-d57ffdee59a3",
        "colab": {
          "base_uri": "https://localhost:8080/"
        }
      },
      "execution_count": 8,
      "outputs": [
        {
          "output_type": "stream",
          "name": "stdout",
          "text": [
            "\r count : 1 / 100\r count : 2 / 100\r count : 3 / 100\r count : 4 / 100\r count : 5 / 100\r count : 6 / 100\r count : 7 / 100\r count : 8 / 100\r count : 9 / 100\r count : 10 / 100\r count : 11 / 100\r count : 12 / 100\r count : 13 / 100\r count : 14 / 100\r count : 15 / 100\r count : 16 / 100\r count : 17 / 100\r count : 18 / 100\r count : 19 / 100\r count : 20 / 100\r count : 21 / 100\r count : 22 / 100\r count : 23 / 100\r count : 24 / 100\r count : 25 / 100\r count : 26 / 100\r count : 27 / 100\r count : 28 / 100\r count : 29 / 100\r count : 30 / 100\r count : 31 / 100\r count : 32 / 100\r count : 33 / 100\r count : 34 / 100\r count : 35 / 100\r count : 36 / 100\r count : 37 / 100\r count : 38 / 100\r count : 39 / 100\r count : 40 / 100\r count : 41 / 100\r count : 42 / 100\r count : 43 / 100\r count : 44 / 100\r count : 45 / 100\r count : 46 / 100\r count : 47 / 100\r count : 48 / 100\r count : 49 / 100\r count : 50 / 100\r count : 51 / 100\r count : 52 / 100\r count : 53 / 100\r count : 54 / 100\r count : 55 / 100\r count : 56 / 100\r count : 57 / 100\r count : 58 / 100\r count : 59 / 100\r count : 60 / 100\r count : 61 / 100\r count : 62 / 100\r count : 63 / 100\r count : 64 / 100\r count : 65 / 100\r count : 66 / 100\r count : 67 / 100\r count : 68 / 100\r count : 69 / 100\r count : 70 / 100\r count : 71 / 100\r count : 72 / 100\r count : 73 / 100\r count : 74 / 100\r count : 75 / 100\r count : 76 / 100\r count : 77 / 100\r count : 78 / 100\r count : 79 / 100\r count : 80 / 100\r count : 81 / 100\r count : 82 / 100\r count : 83 / 100\r count : 84 / 100\r count : 85 / 100\r count : 86 / 100\r count : 87 / 100\r count : 88 / 100\r count : 89 / 100\r count : 90 / 100\r count : 91 / 100\r count : 92 / 100\r count : 93 / 100\r count : 94 / 100\r count : 95 / 100\r count : 96 / 100\r count : 97 / 100\r count : 98 / 100\r count : 99 / 100\r count : 100 / 100\n",
            "성공적으로 100 개 상품 저장됨\n"
          ]
        }
      ]
    },
    {
      "cell_type": "markdown",
      "source": [
        "# Vector DB 검색 코드"
      ],
      "metadata": {
        "id": "3iaTkTCqVcDE"
      }
    },
    {
      "cell_type": "code",
      "source": [
        "def vectordb_search(query, n_results=10):\n",
        "    results = collection.query(\n",
        "        query_texts=[query],\n",
        "        n_results=n_results\n",
        "    )\n",
        "    output = []\n",
        "    for idx, (doc, meta) in enumerate(zip(results['documents'][0], results['metadatas'][0]), 1):\n",
        "        output.append({\n",
        "            \"제품정보\": doc,\n",
        "            \"메타데이터\": meta\n",
        "        })\n",
        "    return output\n",
        "# vectordb_search(\"비타민\")"
      ],
      "metadata": {
        "id": "NPhiJj3qVbdY"
      },
      "execution_count": 9,
      "outputs": []
    },
    {
      "cell_type": "markdown",
      "source": [
        "# 검색 도구 함수 정의 (Function Calling)"
      ],
      "metadata": {
        "id": "G7eGjTt_AQg-"
      }
    },
    {
      "cell_type": "code",
      "source": [
        "recommend_nutrient = {\n",
        "    \"name\": \"recommend_nutrient\",\n",
        "    \"description\": \"사용자가 입력한 상태를 분석해 영양소를 추천합니다.\",\n",
        "    \"parameters\": {\n",
        "        \"type\": \"object\",\n",
        "        \"properties\": {\n",
        "            \"nutrient\": {\"type\": \"string\", \"description\": \"추천하는 영양소 성분\"},\n",
        "            \"query\": {\"type\": \"string\", \"description\": \"사용자 상태 쿼리\"\n",
        "            }\n",
        "        },\n",
        "        \"required\": [\"nutrient\", \"query\"]\n",
        "    }\n",
        "}\n",
        "\n",
        "excessive_nutrient = {\n",
        "    \"name\": \"excessive_nutrient\",\n",
        "    \"description\": \"사용자가 입력한 영양제 섭취 상태를 분석해 일일 권장량을 초과하는 영양소를 찾습니다.\",\n",
        "    \"parameters\": {\n",
        "        \"type\": \"object\",\n",
        "        \"properties\": {\n",
        "            \"nutrient\": {\"type\": \"string\", \"description\": \"초과하는 영양소 성분\"},\n",
        "            \"query\": {\"type\": \"string\", \"description\": \"계산 수식과 초과한 이유\"\n",
        "            }\n",
        "        },\n",
        "        \"required\": [\"nutrient\", \"query\"]\n",
        "    }\n",
        "}\n",
        "\n",
        "vectordb_search_schema = {\n",
        "  \"name\": \"vectordb_search\",\n",
        "  \"description\": \"추천 영양소로 Vector DB에서 제품 검색\",\n",
        "  \"parameters\": {\n",
        "    \"type\": \"object\",\n",
        "    \"properties\": {\n",
        "      \"query\": {\"type\": \"string\"},\n",
        "      \"max_results\": {\"type\": \"integer\", \"default\": 10}\n",
        "    },\n",
        "    \"required\": [\"query\"]\n",
        "  }\n",
        "}\n",
        "\n",
        "google_search_function_schema = {\n",
        "  \"name\": \"google_search\",\n",
        "  \"description\": \"검색된 제품을 Google 검색해서 상세 정보 조회\",\n",
        "  \"parameters\": {\n",
        "    \"type\": \"object\",\n",
        "    \"properties\": {\n",
        "      \"query\": {\"type\": \"string\"},\n",
        "      \"num_results\": {\"type\": \"integer\", \"default\": 10}\n",
        "    },\n",
        "    \"required\": [\"query\"]\n",
        "  }\n",
        "}\n"
      ],
      "metadata": {
        "id": "Gr8ZOqz-_9bs"
      },
      "execution_count": 10,
      "outputs": []
    },
    {
      "cell_type": "markdown",
      "source": [
        "# LLM 동작 코드"
      ],
      "metadata": {
        "id": "WBHbwmxxCTHy"
      }
    },
    {
      "cell_type": "code",
      "source": [
        "from openai import OpenAI\n",
        "import json\n",
        "import re\n",
        "\n",
        "client = OpenAI(api_key=userdata.get('OPENAI_API_KEY'))\n",
        "\n",
        "def nutrient_too_much_check(symptom, gender, age, pregnancy, mode):\n",
        "    prompt = f\"\"\"\n",
        "    사용자 정보:\n",
        "    - 성별: {gender}\n",
        "    - 나이: {age}\n",
        "    - 임신 여부: {pregnancy}\n",
        "    - 원하는 것: {mode}\n",
        "    - 상태: {symptom}\n",
        "\n",
        "    현재 사용자가 섭취하고 있는 상태인 각각 영양소의 총 함량과 해당 영양소의 일일 권장량을 비교하여 초과/미달 여부를 계산하세요. 계산 근거를 같이 제시하세요.\n",
        "    \"\"\"\n",
        "    messages = [\n",
        "        {\n",
        "            \"role\": \"system\",\n",
        "            \"content\": \"너는 건강 기반의 영양제 조언 전문가야. 전문적으로 답변해줘.\"\n",
        "        },\n",
        "        {\"role\": \"user\", \"content\": prompt}\n",
        "    ]\n",
        "\n",
        "    res = client.chat.completions.create(\n",
        "        model=gpt_target,\n",
        "        messages=messages,\n",
        "        functions=[excessive_nutrient],\n",
        "        function_call={\"name\": \"excessive_nutrient\"},\n",
        "        temperature=0.5\n",
        "    )\n",
        "\n",
        "    func_name = res.choices[0].message.function_call.name\n",
        "    args = json.loads(res.choices[0].message.function_call.arguments)\n",
        "\n",
        "    messages.append({\n",
        "        \"role\": \"assistant\",\n",
        "        \"content\": None,\n",
        "        \"function_call\": {\n",
        "            \"name\": func_name,\n",
        "            \"arguments\": res.choices[0].message.function_call.arguments\n",
        "        }\n",
        "    })\n",
        "\n",
        "    messages.append({\n",
        "        \"role\": \"function\",\n",
        "        \"name\": func_name,\n",
        "        \"content\": f\"과다 복용 분석 결과: {json.dumps(args, ensure_ascii=False)}\"\n",
        "    })\n",
        "\n",
        "    messages.append({\n",
        "        \"role\": \"user\",\n",
        "        \"content\": \"\"\"\n",
        "각 성분별로 아래 형식으로 정리해주세요:\n",
        "\n",
        "┌───────────────────────────────────────────────────────┐\n",
        "│ 성분명     │ [예: 비타민 D]\n",
        "├───────────────────────────────────────────────────────┤\n",
        "│ 섭취량     │ [숫자 및 단위]\n",
        "├───────────────────────────────────────────────────────┤\n",
        "│ 권장량     │ [숫자 및 단위]\n",
        "├───────────────────────────────────────────────────────┤\n",
        "│ 초과량     │ [±숫자 및 단위]\n",
        "├───────────────────────────────────────────────────────┤\n",
        "│ 초과 여부  │ ✅ 초과 섭취 / ❌ 미달 섭취\n",
        "└───────────────────────────────────────────────────────┘\n",
        "\n",
        "🛡️ AI Agent의 분석 결과입니다.\n",
        "복용 중인 약물이나 지병이 있다면 반드시 전문가와 상담하세요.\n",
        "        \"\"\"\n",
        "    })\n",
        "\n",
        "    final_response = client.chat.completions.create(\n",
        "        model=gpt_target,\n",
        "        messages=messages,\n",
        "        temperature=0.5\n",
        "    )\n",
        "\n",
        "    print(final_response.choices[0].message.content)\n",
        "\n",
        "\n",
        "def nutrient_recommend_check(symptom, gender, age, pregnancy, mode):\n",
        "    prompt = f\"\"\"\n",
        "    사용자 정보:\n",
        "    - 성별: {gender}\n",
        "    - 나이: {age}\n",
        "    - 임신 여부: {pregnancy}\n",
        "    - 원하는 것: {mode}\n",
        "    - 상태: {symptom}\n",
        "    \"\"\"\n",
        "\n",
        "    if mode == \"식습관 분석을 통한 영양제 추천\":\n",
        "        prompt += \"\\n현재 사용자의 식사 습관 상태를 고려하여 결핍되거나 보조적으로 섭취가 필요한 가장 적절한 영양소를 2가지 추천하세요.\\n\"\n",
        "    elif mode == \"불편 현상에 따른 영양제 추천\":\n",
        "        prompt += \"\\n현재 사용자가 불편해 하는 상태를 해결할 수 있는 가장 적절한 영양소를 2가지 추천하세요.\\n\"\n",
        "\n",
        "    nutrient_recommend(prompt, symptom, gender, age, pregnancy, mode)\n",
        "\n",
        "\n",
        "def nutrient_recommend(condition, symptom, gender, age, pregnancy, mode):\n",
        "    prompt = condition\n",
        "    messages = [\n",
        "        {\n",
        "            \"role\": \"system\",\n",
        "            \"content\": \"너는 건강 기반의 영양제 조언 전문가야. 전문적으로 답변해줘.\"\n",
        "        },\n",
        "        {\"role\": \"user\", \"content\": prompt}\n",
        "    ]\n",
        "\n",
        "    res = client.chat.completions.create(\n",
        "        model=gpt_target,\n",
        "        messages=messages,\n",
        "        functions=[recommend_nutrient],\n",
        "        function_call={\"name\": \"recommend_nutrient\"},\n",
        "        temperature=0.5\n",
        "    )\n",
        "\n",
        "    func_name = res.choices[0].message.function_call.name\n",
        "    args = json.loads(res.choices[0].message.function_call.arguments)\n",
        "    nutrient = args[\"nutrient\"]\n",
        "\n",
        "    # Step 2: VectorDB 검색\n",
        "    search_results = vectordb_search(args[\"query\"])\n",
        "    messages.append({\n",
        "        \"role\": \"assistant\",\n",
        "        \"content\": None,\n",
        "        \"function_call\": {\n",
        "            \"name\": func_name,\n",
        "            \"arguments\": res.choices[0].message.function_call.arguments\n",
        "        }\n",
        "    })\n",
        "\n",
        "    messages.append({\n",
        "        \"role\": \"function\",\n",
        "        \"name\": func_name,\n",
        "        \"content\": f\"VectorDB 검색 결과: {json.dumps(search_results)}\"\n",
        "    })\n",
        "\n",
        "    messages.append({\n",
        "        \"role\": \"user\",\n",
        "        \"content\": \"Vector DB에서 검색한 추천하는 영양소를 포함하는 영양제 제품 중 제일 적합한 영양제 제품 2개를 찾으세요\"\n",
        "    })\n",
        "\n",
        "    res = client.chat.completions.create(\n",
        "        model=gpt_target,\n",
        "        messages=messages,\n",
        "        functions=[vectordb_search_schema],\n",
        "        function_call={\"name\": \"vectordb_search\"},\n",
        "        temperature=0.5\n",
        "    )\n",
        "\n",
        "    func_name = res.choices[0].message.function_call.name\n",
        "    args = json.loads(res.choices[0].message.function_call.arguments)\n",
        "\n",
        "    # Step 3: Google 검색\n",
        "    top_products = [result[\"제품정보\"] for result in search_results[:2]]\n",
        "    google_queries = [f\"{product} 영양제\" for product in top_products]\n",
        "    google_results = []\n",
        "    for query in google_queries:\n",
        "        google_results.extend(google_search(query))\n",
        "\n",
        "    messages.append({\n",
        "        \"role\": \"assistant\",\n",
        "        \"content\": None,\n",
        "        \"function_call\": {\n",
        "            \"name\": func_name,\n",
        "            \"arguments\": json.dumps({\"query\": \" / \".join(google_queries), \"num_results\": 10}, ensure_ascii=False)\n",
        "        }\n",
        "    })\n",
        "\n",
        "    messages.append({\n",
        "        \"role\": \"function\",\n",
        "        \"name\": func_name,\n",
        "        \"content\": f\"Google 검색 결과: {json.dumps(google_results, ensure_ascii=False)}\"\n",
        "    })\n",
        "\n",
        "    # ✅ 변경된 출력 요청 메시지 (표 2개로 출력)\n",
        "    messages.append({\n",
        "        \"role\": \"user\",\n",
        "        \"content\": \"\"\"\n",
        "지금까지의 검색 결과를 종합해서 아래 형식의 표를 **각 제품마다 개별적으로** 작성해주세요.\n",
        "\n",
        "┌────────────────────────────────────────────────────┐\n",
        "│ 제조사     │\n",
        "├────────────────────────────────────────────────────┤\n",
        "│ 제품명     │\n",
        "├────────────────────────────────────────────────────┤\n",
        "│ 주요 성분  │\n",
        "├────────────────────────────────────────────────────┤\n",
        "│ 함량       │\n",
        "├────────────────────────────────────────────────────┤\n",
        "│ 링크       │\n",
        "└────────────────────────────────────────────────────┘\n",
        "\n",
        "📌 제품이 2개라면 위 표를 **2번 반복해서 출력**해주세요.\n",
        "\n",
        "🛡️ AI Agent가 조언하는 내용입니다.\n",
        "건강에 이상이 있거나 복용 중인 약물이 있다면 전문가 상담을 받으세요.\n",
        "        \"\"\"\n",
        "    })\n",
        "\n",
        "    final_response = client.chat.completions.create(\n",
        "        model=gpt_target,\n",
        "        messages=messages,\n",
        "        temperature=0.5\n",
        "    )\n",
        "\n",
        "    print(final_response.choices[0].message.content)\n",
        "\n",
        "\n",
        "def llm_divider(symptom, gender, age, pregnancy, mode):\n",
        "    if mode in [\"식습관 분석을 통한 영양제 추천\", \"불편 현상에 따른 영양제 추천\"]:\n",
        "        nutrient_recommend_check(symptom, gender, age, pregnancy, mode)\n",
        "    elif mode == \"영양제 과다 복용 확인\":\n",
        "        nutrient_too_much_check(symptom, gender, age, pregnancy, mode)\n"
      ],
      "metadata": {
        "id": "Yv5I-YmwtPAj"
      },
      "execution_count": 11,
      "outputs": []
    },
    {
      "cell_type": "markdown",
      "source": [
        "# User Interface 실행"
      ],
      "metadata": {
        "id": "NZ8lMnlmDH1E"
      }
    },
    {
      "cell_type": "code",
      "source": [
        "import gradio as gr\n",
        "import io\n",
        "import sys\n",
        "\n",
        "def nutrient_advisor(symptom, gender, age, pregnancy, mode):\n",
        "    old_stdout = sys.stdout\n",
        "    sys.stdout = mystdout = io.StringIO()\n",
        "    llm_divider(symptom, gender, age, pregnancy, mode)\n",
        "    sys.stdout = old_stdout\n",
        "    return mystdout.getvalue()\n",
        "\n",
        "with gr.Blocks() as demo:\n",
        "    gr.Markdown(\"# 영양제 추천/과다 복용 확인\")\n",
        "    gender = gr.Radio([\"남성\", \"여성\"], label=\"성별\")\n",
        "    age = gr.Number(value=30, label=\"만 나이\")\n",
        "    pregnancy = gr.Radio([\"해당 없음\", \"임신 중\", \"임신 가능성\"], label=\"임신 여부\")\n",
        "    mode = gr.Radio(\n",
        "        [\"식습관 분석을 통한 영양제 추천\", \"불편 현상에 따른 영양제 추천\", \"영양제 과다 복용 확인\"],\n",
        "        label=\"메뉴\"\n",
        "    )\n",
        "    symptom = gr.Textbox(label=\"증상 또는 복용 제품 입력\", placeholder=\"증상 또는 복용 제품 입력\")\n",
        "    submit = gr.Button(\"제출\")\n",
        "    output = gr.Textbox(label=\"결과\", lines=20)\n",
        "\n",
        "    submit.click(\n",
        "        nutrient_advisor,\n",
        "        inputs=[symptom, gender, age, pregnancy, mode],\n",
        "        outputs=output\n",
        "    )\n",
        "\n",
        "demo.launch(share=True, debug=False)\n"
      ],
      "metadata": {
        "id": "9TwC_bL4umPS",
        "outputId": "a3e4d05f-c1a2-45df-cb56-48d75db7987e",
        "colab": {
          "base_uri": "https://localhost:8080/",
          "height": 593
        }
      },
      "execution_count": 12,
      "outputs": [
        {
          "output_type": "stream",
          "name": "stdout",
          "text": [
            "Colab notebook detected. To show errors in colab notebook, set debug=True in launch()\n",
            "* Running on public URL: https://e703680241d491de16.gradio.live\n",
            "\n",
            "This share link expires in 1 week. For free permanent hosting and GPU upgrades, run `gradio deploy` from the terminal in the working directory to deploy to Hugging Face Spaces (https://huggingface.co/spaces)\n"
          ]
        },
        {
          "output_type": "display_data",
          "data": {
            "text/plain": [
              "<IPython.core.display.HTML object>"
            ],
            "text/html": [
              "<div><iframe src=\"https://e703680241d491de16.gradio.live\" width=\"100%\" height=\"500\" allow=\"autoplay; camera; microphone; clipboard-read; clipboard-write;\" frameborder=\"0\" allowfullscreen></iframe></div>"
            ]
          },
          "metadata": {}
        },
        {
          "output_type": "execute_result",
          "data": {
            "text/plain": []
          },
          "metadata": {},
          "execution_count": 12
        }
      ]
    }
  ]
}